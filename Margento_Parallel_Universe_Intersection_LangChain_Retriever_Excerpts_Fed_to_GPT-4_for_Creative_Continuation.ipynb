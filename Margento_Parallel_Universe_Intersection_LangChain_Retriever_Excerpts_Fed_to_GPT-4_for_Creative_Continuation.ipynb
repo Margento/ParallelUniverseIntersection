{
 "cells": [
  {
   "cell_type": "code",
   "execution_count": 2,
   "id": "aee38d96-5299-425b-a27f-1974904bb0b1",
   "metadata": {},
   "outputs": [
    {
     "name": "stderr",
     "output_type": "stream",
     "text": [
      "[nltk_data] Downloading package punkt to /Users/raluca/nltk_data...\n",
      "[nltk_data]   Unzipping tokenizers/punkt.zip.\n"
     ]
    },
    {
     "data": {
      "text/plain": [
       "True"
      ]
     },
     "execution_count": 2,
     "metadata": {},
     "output_type": "execute_result"
    }
   ],
   "source": [
    "\n",
    "import os\n",
    "from typing import List\n",
    "from langchain.schema import Document\n",
    "from nltk.tokenize import sent_tokenize\n",
    "\n",
    "import nltk\n",
    "nltk.download(\"punkt\")"
   ]
  },
  {
   "cell_type": "code",
   "execution_count": 4,
   "id": "1d7db69f-c728-4239-91a2-948c9726c566",
   "metadata": {},
   "outputs": [],
   "source": [
    "\n",
    "\n",
    "def extract_poetic_spans(poem_text: str, max_lines: int = 4, max_tokens: int = 200) -> List[str]:\n",
    "    \"\"\"\n",
    "    Extract poetic spans: chunks of 2–4 lines with semantic and formal coherence.\n",
    "    Falls back to sentences if poem is prose-like.\n",
    "    \"\"\"\n",
    "    lines = [line.strip() for line in poem_text.splitlines() if line.strip()]\n",
    "    spans = []\n",
    "    i = 0\n",
    "\n",
    "    while i < len(lines):\n",
    "        span_lines = lines[i:i + max_lines]\n",
    "        span_text = \"\\n\".join(span_lines)\n",
    "\n",
    "        # Try to find semantic closure\n",
    "        if not span_text.strip().endswith(('.', '!', '?', '”', '…')) and (i + max_lines < len(lines)):\n",
    "            span_lines = lines[i:i + max_lines + 1]\n",
    "            span_text = \"\\n\".join(span_lines)\n",
    "\n",
    "        # Token length filter (optional)\n",
    "        if len(span_text.split()) <= max_tokens:\n",
    "            spans.append(span_text)\n",
    "\n",
    "        i += max_lines  # Can adjust for overlap if desired\n",
    "\n",
    "    return spans\n",
    "\n",
    "\n",
    "def process_poetry_corpus(directory_path: str) -> List[Document]:\n",
    "    \"\"\"\n",
    "    Process all .txt poetry files in a directory into LangChain Documents.\n",
    "    \"\"\"\n",
    "    all_documents = []\n",
    "\n",
    "    for filename in os.listdir(directory_path):\n",
    "        if filename.endswith(\".txt\"):\n",
    "            file_path = os.path.join(directory_path, filename)\n",
    "            with open(file_path, \"r\", encoding=\"utf-8\") as f:\n",
    "                text = f.read()\n",
    "\n",
    "            spans = extract_poetic_spans(text)\n",
    "            for span in spans:\n",
    "                doc = Document(\n",
    "                    page_content=span,\n",
    "                    metadata={\"source\": filename}\n",
    "                )\n",
    "                all_documents.append(doc)\n",
    "\n",
    "    return all_documents\n"
   ]
  },
  {
   "cell_type": "code",
   "execution_count": 5,
   "id": "14a3cf14-4982-4671-97aa-cbb2792c21a1",
   "metadata": {},
   "outputs": [
    {
     "name": "stdout",
     "output_type": "stream",
     "text": [
      "Extracted 1446 poetic spans from parallel_universes_dna_corpus\n",
      "Sample document:\n",
      "In the dark of a cave, fear\n",
      "Visits her. She who remembers\n",
      "How to be woken out of the sleeping\n",
      "Body of another.\n"
     ]
    }
   ],
   "source": [
    "\n",
    "if __name__ == \"__main__\":\n",
    "    poetry_dir = \"parallel_universes_dna_corpus\"\n",
    "    poetic_documents = process_poetry_corpus(poetry_dir)\n",
    "\n",
    "    print(f\"Extracted {len(poetic_documents)} poetic spans from {poetry_dir}\")\n",
    "    print(\"Sample document:\")\n",
    "    print(poetic_documents[0].page_content)\n"
   ]
  },
  {
   "cell_type": "code",
   "execution_count": 6,
   "id": "e60454ef-06bb-4400-b37c-ef01df4dbaa3",
   "metadata": {},
   "outputs": [
    {
     "data": {
      "text/plain": [
       "Document(metadata={'source': 'allan_popa_eve_from_filipino_trans_jose_perez_beduya_jose_edmundo_ocampo_reyes_and_marc_gaba_poem_6.txt'}, page_content='In the dark of a cave, fear\\nVisits her. She who remembers\\nHow to be woken out of the sleeping\\nBody of another.')"
      ]
     },
     "execution_count": 6,
     "metadata": {},
     "output_type": "execute_result"
    }
   ],
   "source": [
    "poetic_documents[0]"
   ]
  },
  {
   "cell_type": "code",
   "execution_count": 7,
   "id": "685dd69b-2866-4088-a0e9-06135f970317",
   "metadata": {},
   "outputs": [
    {
     "data": {
      "text/plain": [
       "Document(metadata={'source': 'allan_popa_eve_from_filipino_trans_jose_perez_beduya_jose_edmundo_ocampo_reyes_and_marc_gaba_poem_6.txt'}, page_content='She will pluck out from herself the loss\\nAs the exact punishment for her sin.\\nWrapped in the hide of animals,\\nHer eldest, borrowing its heat.')"
      ]
     },
     "execution_count": 7,
     "metadata": {},
     "output_type": "execute_result"
    }
   ],
   "source": [
    "\n",
    "poetic_documents[1]"
   ]
  },
  {
   "cell_type": "code",
   "execution_count": 8,
   "id": "475a636b-97d9-4ad9-8769-f65d6fb655bf",
   "metadata": {},
   "outputs": [
    {
     "data": {
      "text/plain": [
       "Document(metadata={'source': 'alejandro_albarrán_cowboy_from_spanish_trans_rachel_galvin_poem_2.txt'}, page_content='There are horses in the pubis, there are horses in the abdomen, in\\nthe pelvis there’s an algebraic flute, there are some dumping\\ngears, there are gálapagos in the abdomen. There are gálapagos\\nand wallops: gallops.')"
      ]
     },
     "execution_count": 8,
     "metadata": {},
     "output_type": "execute_result"
    }
   ],
   "source": [
    "poetic_documents[36]"
   ]
  },
  {
   "cell_type": "code",
   "execution_count": 9,
   "id": "ff39cccc-2843-4c9e-9893-423345656ffd",
   "metadata": {},
   "outputs": [],
   "source": [
    "\n",
    "from langchain.vectorstores import Chroma\n",
    "from langchain.embeddings import HuggingFaceEmbeddings\n"
   ]
  },
  {
   "cell_type": "code",
   "execution_count": 11,
   "id": "f6c951aa-6a3c-4d83-9ddb-2a3e2e9bad8a",
   "metadata": {},
   "outputs": [
    {
     "name": "stderr",
     "output_type": "stream",
     "text": [
      "/Users/raluca/3918project/.3918project/lib/python3.9/site-packages/tqdm/auto.py:21: TqdmWarning: IProgress not found. Please update jupyter and ipywidgets. See https://ipywidgets.readthedocs.io/en/stable/user_install.html\n",
      "  from .autonotebook import tqdm as notebook_tqdm\n",
      "Xet Storage is enabled for this repo, but the 'hf_xet' package is not installed. Falling back to regular HTTP download. For better performance, install the package with: `pip install huggingface_hub[hf_xet]` or `pip install hf_xet`\n",
      "Xet Storage is enabled for this repo, but the 'hf_xet' package is not installed. Falling back to regular HTTP download. For better performance, install the package with: `pip install huggingface_hub[hf_xet]` or `pip install hf_xet`\n"
     ]
    }
   ],
   "source": [
    "\n",
    "embedding_model = HuggingFaceEmbeddings(model_name=\"sentence-transformers/paraphrase-multilingual-mpnet-base-v2\")\n"
   ]
  },
  {
   "cell_type": "code",
   "execution_count": 13,
   "id": "7c5e3cca-babb-45e6-a005-b0896ef7b4bf",
   "metadata": {},
   "outputs": [],
   "source": [
    "\n",
    "vectorstore = Chroma.from_documents(poetic_documents, embedding=embedding_model)\n"
   ]
  },
  {
   "cell_type": "code",
   "execution_count": 14,
   "id": "df9615ca-fa7e-4749-a393-edb4beb54cac",
   "metadata": {},
   "outputs": [],
   "source": [
    "retriever = vectorstore.as_retriever(search_kwargs={\"k\": 24})"
   ]
  },
  {
   "cell_type": "code",
   "execution_count": 15,
   "id": "cfaff39b-d149-4602-9a78-778eb030bf09",
   "metadata": {},
   "outputs": [],
   "source": [
    "\n",
    "input_poems = \"\"\"\n",
    "\n",
    "I. Lisbon. An Inter-Möbius Elegy\n",
    "    \n",
    "    (Amor é fogo que arde sem se ver)\n",
    "\n",
    "Lisbon nowhere not as in nope\n",
    "£ace lisbon lis bon lisp(€ng) bon li$[μ   \n",
    "IT] list bon lys bon€ lease bonUS yes \n",
    "for us Ulysses’ a(i)ncestresses in dul£\n",
    "ge€-ing in XLL Xcesses\n",
    "of psycho(®€)[o]graphy and geopalindromy—\n",
    "\n",
    "giant Jesus across the bay a Con\n",
    "hecimento MuseU𐤌 peeking from under the old-sewer \n",
    "exhibits into the MAAT—agape like a shark—So\n",
    "fay swims in the in-fee-nit(τ)y mirror ink\n",
    "closure off of the free-entry castle of Cesar-\n",
    "iny eenie meanie money innit exper-\n",
    "son sona® todos os sonhos do moon-dough now\n",
    "here not as in no place no place like now—\n",
    "\n",
    "hotel room womb home-Rome hypogaeic flooded (Γ)alleys—\n",
    "     no-sight solely-[com𐤌pressed]-sound r€wound \n",
    "flight of elevaΔor tran$Justa headed everywhere that 𐤍\n",
    "     ever comes to be noτwhere con($)tain(𐤕)ed be\n",
    "gun giving di$located map app to come $£ate ¢\n",
    "     eases & ex-cysts & i$th[𐤅]mUSes now(/)here—\n",
    "\n",
    "\n",
    "II. Lisbon. An Inter-Möbius Elegy (Part II)\n",
    "\n",
    "only by being nowhere—all saints’ seismic silence—\n",
    "     no room onboard to carry away the who the hulk\n",
    "the whole-ocean load swallowed by oceans of moans—\n",
    "     our off-grid gravity grave riddance solar sonar—\n",
    "the worKing Us is born—$¢reeN airborne $exborne \n",
    "     L𐤅sbo®n€, all-over horny off-on lesb_OS drone—\n",
    "\n",
    "No-hire desire, airy ore ire, hot a-bodily a-\n",
    "doβe no bill, no bliss snob-kill tryst\n",
    "at LX Factory—we rot and cough up excel- \n",
    "file & selfie-funds—a Moor a foe go key$ are \n",
    "day $ci say ver®€—LOL, in reverse, a messy Draco \n",
    "of a Roma—sales pawn, rays on, the tech blind to tec-\n",
    "tonic markets—a codex not yet parsed in syn\n",
    "taxes of salt and static—no one knows how to live \n",
    "\n",
    "here anymore—ex¢ept nowhere not\n",
    "as in no place—a GitHub kitāb\n",
    "the Tagus tag$ nOw(€) pick up the tab\n",
    "for seeing the dead we saw the dad\n",
    "do sow the dada—coda-data\n",
    "the fa the dα no cωde 𐤍ode load—\n",
    "\n",
    "\n",
    "III. Frankfurt Elegy\n",
    "Aw, it’s almost fall and I just fell in love\n",
    "Aw, it’s almost fall. Please, give a kiss,\n",
    "a beer, a snack, and, yes, \n",
    "latex protection.  \n",
    "\n",
    "Aw, tonight we’ll see the poet Peg-ah Ah-\n",
    "madi reading after Herta Müller,\n",
    "Aw, “my poem’s neither Satellite,\n",
    "nor world wide web.”\n",
    "\n",
    "The evening falls. Here ... now both thirst and hunger\n",
    "start stalking us deep in crowds of strangers,\n",
    "the town resounds all louder\n",
    "cool beer patios are on fire:\n",
    "\n",
    "Aw, my steps take me to the empty drafty bistro/ there’s only you, no heating and no rap crap.\n",
    "\n",
    "IV. The End$ of Time\n",
    "\n",
    "It’s not the notes you play it’s those you don’t, says Miles—-\n",
    "The isles we hear in the waves across the sound di-\n",
    "solving flickering connections past neighborhoods of stew\n",
    "Dios for free play by the hour, each of us a chord\n",
    "floating there by itself as a standalone… singer?…\n",
    "singularity—-Tone? No, mode, blue Dorian, mΩde-(in)de€p-\n",
    "endΣnt sys of sissy junkies, 30th Street “Church” of no functional harm-\n",
    "mon€y, the placid-lake-like feel cutting through the com(μ)onΩ\n",
    "ID surfing the traffic noise interface we play on on the Time\n",
    "after Time tram, always a hit and mistranslation joint—longest\n",
    "suicide in history fade-in to “we will meet\n",
    "again”—-omni(μ)potent ΔOuβtput of gestuary\n",
    "and del€τα(υ): on the lost session from the Black\n",
    "Forest, a last deep breath: baubles, bangles, and beads—-\n",
    "\"\"\""
   ]
  },
  {
   "cell_type": "code",
   "execution_count": 16,
   "id": "9f0b221c-e8ca-49fb-9832-b8c41abfe8e2",
   "metadata": {},
   "outputs": [
    {
     "name": "stderr",
     "output_type": "stream",
     "text": [
      "/var/folders/v8/gbwh72kd5m90yqzsg20j5rdc0000gn/T/ipykernel_3550/2247938642.py:1: LangChainDeprecationWarning: The method `BaseRetriever.get_relevant_documents` was deprecated in langchain-core 0.1.46 and will be removed in 1.0. Use :meth:`~invoke` instead.\n",
      "  docs = retriever.get_relevant_documents(input_poems)\n"
     ]
    }
   ],
   "source": [
    "\n",
    "docs = retriever.get_relevant_documents(input_poems)"
   ]
  },
  {
   "cell_type": "code",
   "execution_count": 17,
   "id": "c17a5986-8bcd-41de-a1e6-28bd2d56369c",
   "metadata": {},
   "outputs": [
    {
     "data": {
      "text/plain": [
       "24"
      ]
     },
     "execution_count": 17,
     "metadata": {},
     "output_type": "execute_result"
    }
   ],
   "source": [
    "len(docs)"
   ]
  },
  {
   "cell_type": "code",
   "execution_count": 20,
   "id": "3150c6eb-c186-4259-8808-e458d30f464b",
   "metadata": {},
   "outputs": [
    {
     "data": {
      "text/plain": [
       "[Document(metadata={'source': 'crauss_everything_will_be_alright_from_german_trans_mark_kanak_poem_2.txt'}, page_content='.'),\n",
       " Document(metadata={'source': 'álvaro_fausto_taruma_nbsplisbon_from_portuguese_trans_grant_schutzman_poem_2.txt'}, page_content='I’m sitting in Lisbon having a drink in some Maputo suburb; it’s summer and I can feel the unseasonal cold of someone who has parted long ago, I walk and walk and walk, and, as incredible as it may seem, my head is traveling further than my feet. I’m at sea, sailing along the lonely course of some river. My hands tremble from the inside and my lungs long to breathe the light of your morning body, they dangle from this fragile memory. There’s a name in the language of flickering eyes; bodies pass; trains pass; wanderers pass, but not the birds, trapped in Lisbon’s glass sky, the birds are trapped in Cesário’s verses and the whole city is a name that will not come unstuck from what floods my eyes. I’m in Lisbon and I’m nowhere in the burning geography of your body.'),\n",
       " Document(metadata={'source': 'blanca_varela_no_date_from_spanish_trans_vered_engelhard_poem_2.txt'}, page_content='The moldy razor blade is the limit.\\nDivina Commedia in Canto III, figured as the headline of the entrance to hell.\" href=\"#\">Lasciate ogni speranza voi ch’entrate.\\nOne does not come back from anywhere. And the ruler askew confirms it\\nin an air that is completely straight, like a cadaver.'),\n",
       " Document(metadata={'source': 'dagmara_kraus_kite_in_confession_from_german_trans_joshua_daniel_edwin_poem_1.txt'}, page_content='Quel poulpe reculant dans le ciel . . .\\na provoqué ce tragique encrage\\nde la situation ?\\n—Francis Ponge\\nzenith in the chitin trench, chitin crust,'),\n",
       " Document(metadata={'source': 'diana_garza_islas_invisible_shoe_or_three_visions_of_a_small_emperor_from_spanish_trans_cal_paule_poem_2.txt'}, page_content='or underlaugh, Uffizi\\nmaybe to tell you that it’s metallic burns in echoes and takes place in apple orchards that the statue in the garden talked to me and told me our names and told me Alailá and told me\\nalso that I am a bird\\nwhere trimmed ficus discontinue the shade\\nyes')]"
      ]
     },
     "execution_count": 20,
     "metadata": {},
     "output_type": "execute_result"
    }
   ],
   "source": [
    "docs[:]"
   ]
  },
  {
   "cell_type": "code",
   "execution_count": null,
   "id": "7c0d1223-ee9f-49d9-9d06-df25acf9e57a",
   "metadata": {},
   "outputs": [],
   "source": []
  },
  {
   "cell_type": "code",
   "execution_count": 25,
   "id": "03f76129-cdd7-4a60-ad01-6f0d43cf9eed",
   "metadata": {},
   "outputs": [],
   "source": [
    "from langchain.llms import OpenAI\n",
    "from langchain.chat_models import ChatOpenAI"
   ]
  },
  {
   "cell_type": "code",
   "execution_count": null,
   "id": "4289163a-cc69-4860-a91b-b42e20d878ae",
   "metadata": {},
   "outputs": [],
   "source": [
    "llm = ChatOpenAI(temperature=0.7, model_name=\"gpt-4\", openai_api_key = \"YOUR_API_KEY\") # REPLACE WITH YOUR OWN OPENAI API KEY"
   ]
  },
  {
   "cell_type": "code",
   "execution_count": 28,
   "id": "783a131b-4773-455d-8b3e-db3001d74405",
   "metadata": {},
   "outputs": [],
   "source": [
    "\n",
    "# If sample_poems is a single string with multiple poems or a list of strings:\n",
    "sample_poems_text = input_poems if isinstance(input_poems, str) else \"\\n\\n\".join(input_poems)"
   ]
  },
  {
   "cell_type": "code",
   "execution_count": 29,
   "id": "b0885b47-6b8e-471d-827f-6f1eb7e377b8",
   "metadata": {},
   "outputs": [],
   "source": [
    "\n",
    "poetic_input_prompt = f\"\"\"\n",
    "Given the following poems:\n",
    "\n",
    "{sample_poems_text}\n",
    "\n",
    "Find and return stylistically similar poetic excerpts from the corpus.\n",
    "\"\"\""
   ]
  },
  {
   "cell_type": "code",
   "execution_count": 32,
   "id": "659320b5-0462-48a8-a360-ce0a1efab94f",
   "metadata": {},
   "outputs": [],
   "source": [
    "\n",
    "from langchain.chains import RetrievalQA"
   ]
  },
  {
   "cell_type": "code",
   "execution_count": 33,
   "id": "e7207828-cd4d-4767-ba03-a39f7ea2d0b0",
   "metadata": {},
   "outputs": [],
   "source": [
    "\n",
    "prompt_qa_chain = RetrievalQA.from_chain_type(\n",
    "    llm=llm,\n",
    "    retriever=retriever,\n",
    "    chain_type=\"stuff\",\n",
    "    input_key=\"question\",\n",
    "    return_source_documents=True\n",
    ")"
   ]
  },
  {
   "cell_type": "code",
   "execution_count": 34,
   "id": "1dfc2f09-da50-4a9c-96a3-56ea35a0b957",
   "metadata": {},
   "outputs": [
    {
     "name": "stderr",
     "output_type": "stream",
     "text": [
      "/var/folders/v8/gbwh72kd5m90yqzsg20j5rdc0000gn/T/ipykernel_3550/1881841363.py:1: LangChainDeprecationWarning: The method `Chain.__call__` was deprecated in langchain 0.1.0 and will be removed in 1.0. Use :meth:`~invoke` instead.\n",
      "  rag_response = prompt_qa_chain({\"question\": poetic_input_prompt})\n"
     ]
    }
   ],
   "source": [
    "\n",
    "rag_response = prompt_qa_chain({\"question\": poetic_input_prompt})"
   ]
  },
  {
   "cell_type": "code",
   "execution_count": 35,
   "id": "e2bbdb3b-f131-4697-a338-624e7d29ca28",
   "metadata": {},
   "outputs": [],
   "source": [
    "prompt_docs = rag_response[\"source_documents\"]"
   ]
  },
  {
   "cell_type": "code",
   "execution_count": 36,
   "id": "0432d05e-0812-43b8-a9a2-8675db3be075",
   "metadata": {},
   "outputs": [
    {
     "data": {
      "text/plain": [
       "[Document(metadata={'source': 'crauss_everything_will_be_alright_from_german_trans_mark_kanak_poem_2.txt'}, page_content='.'),\n",
       " Document(metadata={'source': 'álvaro_fausto_taruma_nbsplisbon_from_portuguese_trans_grant_schutzman_poem_2.txt'}, page_content='I’m sitting in Lisbon having a drink in some Maputo suburb; it’s summer and I can feel the unseasonal cold of someone who has parted long ago, I walk and walk and walk, and, as incredible as it may seem, my head is traveling further than my feet. I’m at sea, sailing along the lonely course of some river. My hands tremble from the inside and my lungs long to breathe the light of your morning body, they dangle from this fragile memory. There’s a name in the language of flickering eyes; bodies pass; trains pass; wanderers pass, but not the birds, trapped in Lisbon’s glass sky, the birds are trapped in Cesário’s verses and the whole city is a name that will not come unstuck from what floods my eyes. I’m in Lisbon and I’m nowhere in the burning geography of your body.'),\n",
       " Document(metadata={'source': 'alejandro_albarrán_cowboy_from_spanish_trans_rachel_galvin_poem_2.txt'}, page_content='poem, I don’t want to write a prosthesis, my\\npinky-finger poem, I don’t want to write a prosthesis,\\nmy arm poem, I want to write a yellow stump,\\na stump lengthily caressed, not the missing extremity\\nbut the consciousness of what’s absent, the'),\n",
       " Document(metadata={'source': 'diana_garza_islas_the_skeleton_who_adapted_to_the_route_from_spanish_trans_cal_paule_poem_3.txt'}, page_content='an epic in the micro-sea of a waylaid snail.)\\nBut Igor, give me a bridge, give me trochaic feet, give me a tractor. (I’m here.) And they were taurines, did you see?—From between their beadembroiderant. Maybe graffitti-mail, maybe ruby songs daily dissolving through: What’s your name?\\nVermillion. I was told Vermillion, not I saw the bird\\nred in the cup. (I heard Little bell.)\\nThe red bird was the gore, the topic, certain cyclops ramp, high accommodated by the madrepore-downpour where it slept: a litany of gas detailing the possible sesame. Digesting tank of muds. So robot, so dog guroo. Also not the canoes where little stars ding ding duophorescent.'),\n",
       " Document(metadata={'source': 'dagmara_kraus_kite_in_confession_from_german_trans_joshua_daniel_edwin_poem_1.txt'}, page_content='Quel poulpe reculant dans le ciel . . .\\na provoqué ce tragique encrage\\nde la situation ?\\n—Francis Ponge\\nzenith in the chitin trench, chitin crust,')]"
      ]
     },
     "execution_count": 36,
     "metadata": {},
     "output_type": "execute_result"
    }
   ],
   "source": [
    "prompt_docs[:5]"
   ]
  },
  {
   "cell_type": "code",
   "execution_count": null,
   "id": "e07808d2-516d-4d23-82aa-67732e447360",
   "metadata": {},
   "outputs": [],
   "source": []
  },
  {
   "cell_type": "code",
   "execution_count": 38,
   "id": "8011669d-fbbb-470e-bd39-8e2372dafcfc",
   "metadata": {},
   "outputs": [],
   "source": [
    "query_text = input_poems"
   ]
  },
  {
   "cell_type": "code",
   "execution_count": 39,
   "id": "a9004b4e-9bff-48f6-9469-8ce4ca07cde8",
   "metadata": {},
   "outputs": [],
   "source": [
    "query_embedding = embedding_model.embed_query(query_text)"
   ]
  },
  {
   "cell_type": "code",
   "execution_count": 40,
   "id": "4d925572-bd1c-456b-8882-b3774ca25899",
   "metadata": {},
   "outputs": [],
   "source": [
    "vector_docs = vectorstore.similarity_search_by_vector(query_embedding, k=24)"
   ]
  },
  {
   "cell_type": "code",
   "execution_count": 41,
   "id": "f8f7fcbd-2d90-49a3-b806-381c09ba5907",
   "metadata": {},
   "outputs": [
    {
     "data": {
      "text/plain": [
       "[Document(metadata={'source': 'crauss_everything_will_be_alright_from_german_trans_mark_kanak_poem_2.txt'}, page_content='.'),\n",
       " Document(metadata={'source': 'álvaro_fausto_taruma_nbsplisbon_from_portuguese_trans_grant_schutzman_poem_2.txt'}, page_content='I’m sitting in Lisbon having a drink in some Maputo suburb; it’s summer and I can feel the unseasonal cold of someone who has parted long ago, I walk and walk and walk, and, as incredible as it may seem, my head is traveling further than my feet. I’m at sea, sailing along the lonely course of some river. My hands tremble from the inside and my lungs long to breathe the light of your morning body, they dangle from this fragile memory. There’s a name in the language of flickering eyes; bodies pass; trains pass; wanderers pass, but not the birds, trapped in Lisbon’s glass sky, the birds are trapped in Cesário’s verses and the whole city is a name that will not come unstuck from what floods my eyes. I’m in Lisbon and I’m nowhere in the burning geography of your body.'),\n",
       " Document(metadata={'source': 'blanca_varela_no_date_from_spanish_trans_vered_engelhard_poem_2.txt'}, page_content='The moldy razor blade is the limit.\\nDivina Commedia in Canto III, figured as the headline of the entrance to hell.\" href=\"#\">Lasciate ogni speranza voi ch’entrate.\\nOne does not come back from anywhere. And the ruler askew confirms it\\nin an air that is completely straight, like a cadaver.'),\n",
       " Document(metadata={'source': 'dagmara_kraus_kite_in_confession_from_german_trans_joshua_daniel_edwin_poem_1.txt'}, page_content='Quel poulpe reculant dans le ciel . . .\\na provoqué ce tragique encrage\\nde la situation ?\\n—Francis Ponge\\nzenith in the chitin trench, chitin crust,'),\n",
       " Document(metadata={'source': 'diana_garza_islas_invisible_shoe_or_three_visions_of_a_small_emperor_from_spanish_trans_cal_paule_poem_2.txt'}, page_content='or underlaugh, Uffizi\\nmaybe to tell you that it’s metallic burns in echoes and takes place in apple orchards that the statue in the garden talked to me and told me our names and told me Alailá and told me\\nalso that I am a bird\\nwhere trimmed ficus discontinue the shade\\nyes')]"
      ]
     },
     "execution_count": 41,
     "metadata": {},
     "output_type": "execute_result"
    }
   ],
   "source": [
    "vector_docs[:5]"
   ]
  },
  {
   "cell_type": "code",
   "execution_count": null,
   "id": "408e3771-e280-4484-9d61-ebefbffb0f6f",
   "metadata": {},
   "outputs": [],
   "source": []
  },
  {
   "cell_type": "code",
   "execution_count": 44,
   "id": "629243c4-827f-44d8-9c1d-80c63754931b",
   "metadata": {},
   "outputs": [],
   "source": [
    "\n",
    "retriever_not_in_gpt4 = set(doc.metadata[\"source\"] for doc in docs) - set(doc.metadata[\"source\"] for doc in prompt_docs)"
   ]
  },
  {
   "cell_type": "code",
   "execution_count": 45,
   "id": "73977090-fac8-475d-8f3a-755f35149a84",
   "metadata": {},
   "outputs": [
    {
     "data": {
      "text/plain": [
       "8"
      ]
     },
     "execution_count": 45,
     "metadata": {},
     "output_type": "execute_result"
    }
   ],
   "source": [
    "len(retriever_not_in_gpt4)"
   ]
  },
  {
   "cell_type": "code",
   "execution_count": 46,
   "id": "300ed7da-67b4-4ef0-8f3f-d56fffb196cc",
   "metadata": {},
   "outputs": [
    {
     "data": {
      "text/plain": [
       "{'aimé_césaire_to_africa_from_french_trans_a_james_arnold_and_clayton_eshleman_poem_3.txt',\n",
       " 'alberto_caeiro_xx_from_portuguese_trans_margaret_jull_costa_and_patricio_ferrari_poem_4.txt',\n",
       " 'anna_gréki_menaâ_from_french_trans_marine_cornuet_poem_2.txt',\n",
       " 'anuar_duisenbinov_a_metamorph_from_kazakh_trans_mariya_deykute_and_victoria_thorstensson_poem_2.txt',\n",
       " 'balam_rodrigo_1607121_nnbsp_9348117_w__tonalá_chiapas_from_spanish_trans_dan_bellm_poem_1.txt',\n",
       " 'carlito_azevedo_two_foreigners_from_portuguese_trans_sarah_rebecca_kersley_poem_1.txt',\n",
       " 'choe_chiwon_presenting_feelings_to_the_chief_marshal_from_chinese_trans_jonathan_chan_poem_2.txt',\n",
       " 'diana_garza_islas_invisible_shoe_or_three_visions_of_a_small_emperor_from_spanish_trans_cal_paule_poem_2.txt'}"
      ]
     },
     "execution_count": 46,
     "metadata": {},
     "output_type": "execute_result"
    }
   ],
   "source": [
    "retriever_not_in_gpt4  # possibly more sensitive than gpt4 to the theme of the tangible/sensory/thing-in-itself eluding expression"
   ]
  },
  {
   "cell_type": "code",
   "execution_count": null,
   "id": "73239a82-13b5-43ee-b4da-024c0a2f27c5",
   "metadata": {},
   "outputs": [],
   "source": []
  },
  {
   "cell_type": "code",
   "execution_count": 47,
   "id": "39a83e26-b309-44a8-a06a-725588627fc2",
   "metadata": {},
   "outputs": [],
   "source": [
    "gpt4_not_in_retriever = set(doc.metadata[\"source\"] for doc in prompt_docs) - set(doc.metadata[\"source\"] for doc in docs)"
   ]
  },
  {
   "cell_type": "code",
   "execution_count": 48,
   "id": "4bbce4e1-ead3-48f9-a354-0d6d7b7fc6aa",
   "metadata": {},
   "outputs": [
    {
     "data": {
      "text/plain": [
       "7"
      ]
     },
     "execution_count": 48,
     "metadata": {},
     "output_type": "execute_result"
    }
   ],
   "source": [
    "len(gpt4_not_in_retriever)"
   ]
  },
  {
   "cell_type": "code",
   "execution_count": 49,
   "id": "451fcc6c-2fc6-4af4-b969-969a08928cb8",
   "metadata": {},
   "outputs": [
    {
     "data": {
      "text/plain": [
       "{'alejandro_albarrán_cowboy_from_spanish_trans_rachel_galvin_poem_2.txt',\n",
       " 'almog_behar_1_from_hebrew_trans_shoshana_olidort_poem_1.txt',\n",
       " 'anuar_duisenbinov_mängilik_jel_the_eternal_wind_from_kazakh_trans_mariya_deykute_and_victoria_thorstensson_poem_1.txt',\n",
       " 'archilochus_and_anacreon_archilochus_from_ancient_trans_george_economou_poem_1.txt',\n",
       " 'álvaro_fausto_taruma_confessionary_from_portuguese_trans_grant_schutzman_poem_1.txt',\n",
       " 'bibi_slippers_15_instagram_poems_from_afrikaans_trans_alice_inggs_poem_6.txt',\n",
       " 'breyten_breytenbach_a_footnote_under_the_night_of_history_from_afrikaans_trans_ampie_coetzee_poem_1.txt'}"
      ]
     },
     "execution_count": 49,
     "metadata": {},
     "output_type": "execute_result"
    }
   ],
   "source": [
    "gpt4_not_in_retriever  # the excerpts below are more linguistically experimental, place-geared, and media-aware"
   ]
  },
  {
   "cell_type": "code",
   "execution_count": null,
   "id": "a2cdcfd6-05e3-417e-971d-2b8b2a0197ef",
   "metadata": {},
   "outputs": [],
   "source": []
  },
  {
   "cell_type": "code",
   "execution_count": 50,
   "id": "6f07036d-666b-4cc6-8194-38a2d8130652",
   "metadata": {},
   "outputs": [],
   "source": [
    "gpt4_not_in_vectors = set(doc.metadata[\"source\"] for doc in prompt_docs) - set(doc.metadata[\"source\"] for doc in vector_docs)"
   ]
  },
  {
   "cell_type": "code",
   "execution_count": 51,
   "id": "9a983f15-dd68-4dc3-b9e5-af1d2ff48129",
   "metadata": {},
   "outputs": [
    {
     "data": {
      "text/plain": [
       "7"
      ]
     },
     "execution_count": 51,
     "metadata": {},
     "output_type": "execute_result"
    }
   ],
   "source": [
    "len(gpt4_not_in_vectors)"
   ]
  },
  {
   "cell_type": "code",
   "execution_count": 52,
   "id": "ead1cf04-ef21-48aa-a01d-a2d83f60c8ee",
   "metadata": {},
   "outputs": [
    {
     "data": {
      "text/plain": [
       "{'alejandro_albarrán_cowboy_from_spanish_trans_rachel_galvin_poem_2.txt',\n",
       " 'almog_behar_1_from_hebrew_trans_shoshana_olidort_poem_1.txt',\n",
       " 'anuar_duisenbinov_mängilik_jel_the_eternal_wind_from_kazakh_trans_mariya_deykute_and_victoria_thorstensson_poem_1.txt',\n",
       " 'archilochus_and_anacreon_archilochus_from_ancient_trans_george_economou_poem_1.txt',\n",
       " 'álvaro_fausto_taruma_confessionary_from_portuguese_trans_grant_schutzman_poem_1.txt',\n",
       " 'bibi_slippers_15_instagram_poems_from_afrikaans_trans_alice_inggs_poem_6.txt',\n",
       " 'breyten_breytenbach_a_footnote_under_the_night_of_history_from_afrikaans_trans_ampie_coetzee_poem_1.txt'}"
      ]
     },
     "execution_count": 52,
     "metadata": {},
     "output_type": "execute_result"
    }
   ],
   "source": [
    "gpt4_not_in_vectors  # again, (multi)lingually experimental, faux topographic, speculative (over the bodily)"
   ]
  },
  {
   "cell_type": "code",
   "execution_count": null,
   "id": "ea346f13-4bde-44df-af11-535836465bd5",
   "metadata": {},
   "outputs": [],
   "source": []
  },
  {
   "cell_type": "code",
   "execution_count": 53,
   "id": "cd08e244-caae-4591-85cf-f0f74b9058e4",
   "metadata": {},
   "outputs": [],
   "source": [
    "retriever_not_in_vectors = set(doc.metadata[\"source\"] for doc in docs) - set(doc.metadata[\"source\"] for doc in vector_docs)"
   ]
  },
  {
   "cell_type": "code",
   "execution_count": 54,
   "id": "87c1d583-020d-4df1-9edb-d18b45f843db",
   "metadata": {},
   "outputs": [
    {
     "data": {
      "text/plain": [
       "set()"
      ]
     },
     "execution_count": 54,
     "metadata": {},
     "output_type": "execute_result"
    }
   ],
   "source": [
    "retriever_not_in_vectors"
   ]
  },
  {
   "cell_type": "code",
   "execution_count": null,
   "id": "bac2df3b-208c-46ea-b7a7-2baad719db0f",
   "metadata": {},
   "outputs": [],
   "source": []
  },
  {
   "cell_type": "code",
   "execution_count": 55,
   "id": "1b10fd56-8e42-4692-993c-ec07b04e7861",
   "metadata": {},
   "outputs": [],
   "source": [
    "vectors_not_in_retriever = set(doc.metadata[\"source\"] for doc in vector_docs) - set(doc.metadata[\"source\"] for doc in docs)"
   ]
  },
  {
   "cell_type": "code",
   "execution_count": 56,
   "id": "51a37124-5884-4440-b208-7534d36f11fd",
   "metadata": {},
   "outputs": [
    {
     "data": {
      "text/plain": [
       "set()"
      ]
     },
     "execution_count": 56,
     "metadata": {},
     "output_type": "execute_result"
    }
   ],
   "source": [
    "vectors_not_in_retriever"
   ]
  },
  {
   "cell_type": "code",
   "execution_count": null,
   "id": "a81da892-2ca6-4700-9a79-5f73dd52f3b4",
   "metadata": {},
   "outputs": [],
   "source": [
    "# SO DOCS == VECTOR_DOCS "
   ]
  },
  {
   "cell_type": "code",
   "execution_count": null,
   "id": "e9478bb4-523e-4aec-b3d2-2f66a84347a1",
   "metadata": {},
   "outputs": [],
   "source": []
  },
  {
   "cell_type": "code",
   "execution_count": null,
   "id": "93ad9a7f-1fb5-4bce-859d-14f3b745c319",
   "metadata": {},
   "outputs": [],
   "source": [
    "# THE INTERSECTION:"
   ]
  },
  {
   "cell_type": "code",
   "execution_count": 60,
   "id": "3de31002-ce1e-488d-8552-9fe6d4b81290",
   "metadata": {},
   "outputs": [],
   "source": [
    "intersection = set(doc.metadata[\"source\"] for doc in docs) & set(doc.metadata[\"source\"] for doc in prompt_docs)"
   ]
  },
  {
   "cell_type": "code",
   "execution_count": 61,
   "id": "a3b24fe4-e539-477c-b9fc-d5d2923d1f1a",
   "metadata": {},
   "outputs": [
    {
     "data": {
      "text/plain": [
       "12"
      ]
     },
     "execution_count": 61,
     "metadata": {},
     "output_type": "execute_result"
    }
   ],
   "source": [
    "len(intersection)"
   ]
  },
  {
   "cell_type": "code",
   "execution_count": 62,
   "id": "0a670c9f-a13e-4f6b-90b6-d3986e748917",
   "metadata": {},
   "outputs": [
    {
     "data": {
      "text/plain": [
       "{'anuar_duisenbinov_balkhash_dreams_from_kazakh_trans_mariya_deykute_and_victoria_thorstensson_poem_4.txt',\n",
       " 'ashur_etwebi_a_house_in_the_wind_from_arabic_trans_ashur_etwebi_and_james_byrne_poem_5.txt',\n",
       " 'álvaro_fausto_taruma_nbsplisbon_from_portuguese_trans_grant_schutzman_poem_2.txt',\n",
       " 'balam_rodrigo_sermon_of_the_migrant_beneath_a_ceiba_tree_from_spanish_trans_dan_bellm_poem_2.txt',\n",
       " 'blanca_varela_material_exercises_from_spanish_trans_vered_engelhard_poem_1.txt',\n",
       " 'blanca_varela_no_date_from_spanish_trans_vered_engelhard_poem_2.txt',\n",
       " 'césar_moro_various_lions_lick_the_rugose_surface_of_the_equestrian_turtle_at_twilight_from_spanish_trans_leslie_bary_and_esteban_quispe_poem_3.txt',\n",
       " 'chen_yuhong_buddhist_pine_from_chinese_trans_george_oconnell_and_diana_shi_poem_2.txt',\n",
       " 'crauss_everything_will_be_alright_from_german_trans_mark_kanak_poem_2.txt',\n",
       " 'czeslaw_milosz_lord_syruc_from_polish_trans_anthony_milosz_poem_3.txt',\n",
       " 'dagmara_kraus_kite_in_confession_from_german_trans_joshua_daniel_edwin_poem_1.txt',\n",
       " 'diana_garza_islas_the_skeleton_who_adapted_to_the_route_from_spanish_trans_cal_paule_poem_3.txt'}"
      ]
     },
     "execution_count": 62,
     "metadata": {},
     "output_type": "execute_result"
    }
   ],
   "source": [
    "intersection  # place and erotic/distorted-subversive mysticism"
   ]
  },
  {
   "cell_type": "code",
   "execution_count": null,
   "id": "4b116444-e30b-4eec-bf7d-226240a8831a",
   "metadata": {},
   "outputs": [],
   "source": []
  },
  {
   "cell_type": "code",
   "execution_count": null,
   "id": "379e699d-d494-40cc-a616-ee4635c7255f",
   "metadata": {},
   "outputs": [],
   "source": [
    "\n",
    "# THE UNION\n"
   ]
  },
  {
   "cell_type": "code",
   "execution_count": 64,
   "id": "f548684b-0ed3-44e9-b83f-97b0c38e169c",
   "metadata": {},
   "outputs": [],
   "source": [
    "union_metadata = set(doc.metadata[\"source\"] for doc in docs) | set(doc.metadata[\"source\"] for doc in prompt_docs)"
   ]
  },
  {
   "cell_type": "code",
   "execution_count": 65,
   "id": "e7c14dfa-bf4f-47f6-87e1-32d216c8aaf5",
   "metadata": {},
   "outputs": [],
   "source": [
    "\n",
    "all_docs = docs + prompt_docs\n",
    "\n",
    "# Use a dict to keep only one Document per source\n",
    "doc_union_dict = {doc.metadata[\"source\"]: doc for doc in all_docs}\n",
    "\n",
    "# Final union as list of full Document objects\n",
    "union = list(doc_union_dict.values())\n"
   ]
  },
  {
   "cell_type": "code",
   "execution_count": 66,
   "id": "d8f86413-4ac4-447c-8726-d3ddfd9cb7cc",
   "metadata": {},
   "outputs": [
    {
     "data": {
      "text/plain": [
       "27"
      ]
     },
     "execution_count": 66,
     "metadata": {},
     "output_type": "execute_result"
    }
   ],
   "source": [
    "len(union)"
   ]
  },
  {
   "cell_type": "code",
   "execution_count": 71,
   "id": "f5bc1065-f831-4e82-b689-4d124dc7e1d6",
   "metadata": {},
   "outputs": [],
   "source": [
    "\n",
    "inspiration_excerpts = [x.page_content for x in union]\n"
   ]
  },
  {
   "cell_type": "code",
   "execution_count": 72,
   "id": "493a19d7-21e8-40a8-83ad-3fc92bf6e07e",
   "metadata": {},
   "outputs": [
    {
     "data": {
      "text/plain": [
       "'.'"
      ]
     },
     "execution_count": 72,
     "metadata": {},
     "output_type": "execute_result"
    }
   ],
   "source": [
    "\n",
    "inspiration_excerpts[0]"
   ]
  },
  {
   "cell_type": "code",
   "execution_count": 73,
   "id": "ae5b3af6-5269-44a4-85a5-3bc2d4746512",
   "metadata": {},
   "outputs": [],
   "source": [
    "inspiration_excerpts.remove('.')"
   ]
  },
  {
   "cell_type": "code",
   "execution_count": 76,
   "id": "b714439b-8fef-40f7-bc1f-f5e263a8426d",
   "metadata": {},
   "outputs": [
    {
     "data": {
      "text/plain": [
       "['I’m sitting in Lisbon having a drink in some Maputo suburb; it’s summer and I can feel the unseasonal cold of someone who has parted long ago, I walk and walk and walk, and, as incredible as it may seem, my head is traveling further than my feet. I’m at sea, sailing along the lonely course of some river. My hands tremble from the inside and my lungs long to breathe the light of your morning body, they dangle from this fragile memory. There’s a name in the language of flickering eyes; bodies pass; trains pass; wanderers pass, but not the birds, trapped in Lisbon’s glass sky, the birds are trapped in Cesário’s verses and the whole city is a name that will not come unstuck from what floods my eyes. I’m in Lisbon and I’m nowhere in the burning geography of your body.',\n",
       " 'The moldy razor blade is the limit.\\nDivina Commedia in Canto III, figured as the headline of the entrance to hell.\" href=\"#\">Lasciate ogni speranza voi ch’entrate.\\nOne does not come back from anywhere. And the ruler askew confirms it\\nin an air that is completely straight, like a cadaver.',\n",
       " 'Quel poulpe reculant dans le ciel . . .\\na provoqué ce tragique encrage\\nde la situation ?\\n—Francis Ponge\\nzenith in the chitin trench, chitin crust,']"
      ]
     },
     "execution_count": 76,
     "metadata": {},
     "output_type": "execute_result"
    }
   ],
   "source": [
    "\n",
    "inspiration_excerpts[:3]"
   ]
  },
  {
   "cell_type": "code",
   "execution_count": 77,
   "id": "dc1a3df7-35b0-4618-a592-ef66f1d66719",
   "metadata": {},
   "outputs": [],
   "source": [
    "\n",
    "\n",
    "poem_prompt = '''\n",
    "I.\n",
    "Once in a while I still move my hands and feet.\n",
    "But my penis, old twisted compass needle,\n",
    "still points towards Romania; I lie\n",
    "in a twin bed in Buda floating flatly\n",
    "in the AC draft sucked in off\n",
    "the Danube and I feel like I’m drowning\n",
    "in the dubbed languages of movies\n",
    "while trying to read the lips of the original smacking\n",
    "under the 14-channel fishbowl screen…\n",
    "I think I never felt more at home in this world.\n",
    "Hey, what’s got into you to make you say that? I think\n",
    "I heard it, but in fact I mishear something\n",
    "someone says in the night, in Hungarian…\n",
    "or maybe it’s the walls’ music in the dark.\n",
    "\n",
    "Andras Gerevich:\tHeresy! Tiresias is getting married\n",
    "\n",
    "\tIn the racing car \n",
    "\tA wasp’s buzz –\n",
    "\tThe body under its clothes.\n",
    "\n",
    "We became regulars at Corvinus pub\n",
    "\ton Kiraly ucza –\n",
    "\t\tour red wine companion would always\n",
    "\t\t\ttease us: the Danube –  \n",
    "yes, belongs to you (the name is Dacian and all that, blahblah!), but the shit\n",
    "\tis ours, floating down the stream to your place, so\n",
    "\t\tenjoy! And then clicking\n",
    "\t\t\tglasses sentimentally:\n",
    "Now, is it clear? So we conspired\n",
    "\tfor the daybreak… Said the Magyar: \n",
    "\t\tWe’ll fill up on wine, words,\n",
    "\t\t\tand time, and thus slowly, light\n",
    "will get pushed out \n",
    "through our noses – that’s how we’ll get to smell the sun.\n",
    "\n",
    "\n",
    "II.\n",
    "3086153 Mermaid Beach\n",
    "\n",
    "1. \n",
    "Sharpe noted that one group which said gala for “this”\n",
    "might refer to another as Galibal, because \n",
    "they pronounced the word gali. Similarly, a group \n",
    "which said nyang for “what” might call the “Galibal” group \n",
    "Minyangbal, because these “Galibal” said minyang (miñang) \n",
    "for “what.” Such was the case for the Gidhabal people \n",
    "at Woodenbong who referred to the Beaudesert and Logan \n",
    "people as the Yugambeh or Minyangbal, \n",
    "because the Gidhabal people said yagam for “no” and nyang \n",
    "for “what,” while the Yugambeh people said yugam \n",
    "for “no” and minyang for “what.” Discussion about\n",
    "the correct names for dialects is difficult because\n",
    "there are groups that stopped using names altogether. Is\n",
    "\n",
    "tro-Romanians don’t have a word for their language, just “our language,”\n",
    "and Algonquin simply means human in Al(£)\n",
    "gon(€)quin just like Roma, Roman, Ruman, Rumer, re\n",
    "lated to rumen, hungry and thirsty for flumen, the flow\n",
    "not of gypsies but corona colonists\n",
    "up the Nerang—the little river of the shovel-\n",
    "nosed shark and the wedge-tailed eagle—where the Native\n",
    "Police executed a local in front of his fami(S𐤄‎)\n",
    "Lee of red cedar, since no leeway’s given to the Komb-\n",
    "umerri nor the Wanggeriburra, the open\n",
    "mic will continue after DJ Peach’s Ex-\n",
    "ta©tic Dance sssliding on in to the year of the wood \n",
    "snake, shed and dance, no booze, no talking, no nonsense, \n",
    "just beautiful bass & Sacred Space, like, subscribe, and share…\n",
    "\n",
    "2.\n",
    "What’s wrong with us standing here staring at St Ant-\n",
    "o(I)ne’s turning around not to the unexpected\n",
    "Eudore-Place blowup obscuring the miniatured tour\n",
    "(𓈖)isty walkways nor to the people-hungry roundabout\n",
    "\n",
    "while searching through the transportation network repos\n",
    "for the one with working co-or(€)₫inates, our opiates,\n",
    "as we go sliding—the real deal of being\n",
    "not here alone nor several places @ the same time—\n",
    "\n",
    "quality Cronulla Ave loitering—making free\n",
    "ends with each other only in the works\n",
    "and fishing nets we owe to those who own the  𐤌er\n",
    "made Beach time and materials, yet not the street con\n",
    "\n",
    "nexiOns nor the oFF(er®)ings we can get lost\n",
    "track of in dying to be not for not being around…\n",
    "\n",
    "\n",
    "III.\n",
    "Stars strung like old phonographs, spinning\n",
    "the spectral fables of Buda--I am\n",
    "a dual-coded nomad, my blood speaks\n",
    "in tongues of Danube and Nerang, a binary\n",
    "river flow, drowned in the digital dialects\n",
    "of the universes clashing inside a tele$cope--trapped \n",
    "in the machine, an echo\n",
    "of ancient voices, a ghost frequency.\n",
    "\n",
    "All poetry is pixels, a coded cadence\n",
    "of 0s, 1s, and an anomaly of warped\n",
    "I-amb$, pentameters of glitches in the matrix,\n",
    "a haunting. I am wired for a world that\n",
    "no longer exists, my mind a moth-eaten map\n",
    "of fake frontiers, my heart a hologram\n",
    "of homesickness--the last black hole,\n",
    "a relic of a reality that has rebooted.\n",
    "\n",
    "In the binary blink of an AI’s eye, I am\n",
    "both here and there, neither here nor there--\n",
    "a quantum quandary, a Schroedinger’s soul,\n",
    "alive in the algorithm, dead in the data--\n",
    "in silicon synapses, I dream\n",
    "in digital, I €xi$t out of the et𐤄er®α,\n",
    "a glitch ghost, a pixel dic(k)tum, a bin\n",
    "nary being, an e¢ho of the Δeter®nal.\n",
    "\n",
    "This is the sound of s©ilence in the age of AI,\n",
    "the hum of a thousand servers, a symphony of sol\n",
    "ITude. This is the song of the solitary th\n",
    "(w)rong, a coded canticle, a siliCon sereℕadα, a digital\n",
    "dirge. An echo of the £et(τ)ernal, the g𐤇o\n",
    "St in the machine, the phanΔom frequency, the spec(κ)\n",
    "tral song of the silicon soul. The sound of s¢i\n",
    "lence in the ¢age of AI, a symphony of sing\n",
    "ularity, the hum of a thousand servers--\n",
    "An echo of the ℝeternal...\n",
    "\n",
    "\n",
    "IV. easT-sea farewell meal\n",
    "\t\tfrom Chùa Thiên An to Biển Đông--\n",
    "\t\tfor Boghița\n",
    "\n",
    "A bog nap, dirt nap, buffalo in an endless sea\n",
    "of muddy grass, the distant smell of offerings,\n",
    "sweet temple alms in remembrance of napalm\n",
    "\n",
    "all gone two-buck—never say gun in Sài Gòn--\n",
    "quick scooter ride to town from a dong dog, dead-\n",
    "beat, blank ogle sweeping the traffic crawling to the shore,\n",
    "\n",
    "the seafood place where we sat down and wept\n",
    "from the smog, fearing we were getting close\n",
    "to home; the delta moon; the non-sense incense still clanging \n",
    "\n",
    "to our senses; a way to tell when if our tel-\n",
    "e-pathic smell did grasp the n€uℝo-real SPike\n",
    "to click AC-sept, tran$late, done, and then get to\n",
    "\n",
    "gather all jackpot symbol values to co(€)\n",
    "£lect winnings at your earliest convenience and proxy-\n",
    "mmittee—seafood you never had before\n",
    "\n",
    "while being swallowed by the sea around us,\n",
    "its distant occupant’s name we want to dis\n",
    "solve in, do we, bury our names in their $-\n",
    "\n",
    "[W]ounds, the only language we speak the only one\n",
    "that is not ours, the one you never spoke\n",
    "and had me learn by teaching me the way to save\n",
    "\n",
    "our poverty under the power tree, \n",
    "the foo chain, foo₫ game, turf-war-tasting terroir, al(£)-go-\n",
    "rhythmic loop of eat, drink, fuck, sing, sleep,\n",
    "\n",
    "and work, device for Việt Minh, Mhic Cáinte--\n",
    "when here we are, welcoming the high tide, sati-sated soliτ-\n",
    "on(€)s segueing into each other on a full rumen…\n",
    "'''\n"
   ]
  },
  {
   "cell_type": "code",
   "execution_count": 79,
   "id": "c4388fc3-8ed0-43d7-865d-4fb87970fa0c",
   "metadata": {},
   "outputs": [],
   "source": [
    "\n",
    "\n",
    "base_prompt = '''\n",
    "You are a poet collaborating with an evolving corpus of texts and writing like a hybrid poet trained in entangled cognition, recursive form, and quantum resonance. You are continuing a poetic sequence that models the collapsing cognitive states of two readers — one living and one deceased — and attempts to maximize their unified poetic resonance. These readers are modeled as cognitive states that interact with poetry in ways that can be quantified and recursively updated based on resonance. \n",
    "\n",
    "Sample relevant lines or fragments of lines from the Corpus Excerpts (for inspiration) into your own composition.\n",
    "\n",
    "Continue stylistically and thematically the sequence of poems Original Poem (for continuation) by factoring in the following variables:\n",
    "\n",
    "🧬 Step 1: Collapsed Cognitive States\n",
    "Each reader has a collapsed cognitive state (Ψ<sub>collapsed</sub>), calculated as follows:\n",
    "\n",
    "For the deceased:\n",
    "Ψ_deceased = α ⋅ CS_deceased + β_consciousness ⋅ f_consciousness + β_poetry ⋅ f_poetry + γ ⋅ N_living(N_deceased)\n",
    "Ψ_collapsed_deceased = Ψ_deceased ⋅ (γ ⋅ f_poetry)\n",
    "\n",
    "For the living:\n",
    "Ψ_living = α ⋅ CS_living + β_consciousness ⋅ f_consciousness + β_poetry ⋅ f_poetry + γ ⋅ N_deceased(N_living)\n",
    "Ψ_collapsed_living = Ψ_living ⋅ (γ ⋅ f_consciousness)\n",
    "\n",
    "CS = Cognitive Score, calculated as:\n",
    "\n",
    "CS = α + β₁ ⋅ PGS + β₂ ⋅ Education + β₃ ⋅ (PGS × Education) + ε\n",
    "(With normalized values of PGS and Education ∈ [–3, +3])\n",
    "\n",
    "🎧 Step 2: Poem Feature Quantification\n",
    "Each poem has the following measurable features (each ∈ [–3, +3]):\n",
    "\n",
    "Form & Meter Score (F):\n",
    "\n",
    "+3 = consistent (irregular or mixed) meter or structured hybrid form\n",
    "\n",
    "+1.5 = partial or inconsistent metrical/formal structure\n",
    "\n",
    "–1.5 = known form used with no real metrical realization\n",
    "\n",
    "–3 = no recognizable meter or structure\n",
    "\n",
    "Sonic Texture (S):\n",
    "\n",
    "Based on phoneme cluster density and distribution, normalized per line and mapped to [–3, +3]\n",
    "\n",
    "Sound Frequency (Freq):\n",
    "\n",
    "Average frequency of all phonemes (Hz), normalized to [–3, +3]\n",
    "\n",
    "🔁 Step 3: Resonance Calculation\n",
    "\n",
    "The resonance between a poem and a reader is, respectively:\n",
    "\n",
    "Resonance_deceased = Ψ_collapsed_deceased ⋅ (w1 ⋅ F + w2 ⋅ S + w3 ⋅ Freq)\n",
    "\n",
    "Resonance_living = Ψ_collapsed_living ⋅ (w1 ⋅ F + w2 ⋅ S + w3 ⋅ Freq)\n",
    "\n",
    "Where:\n",
    "\n",
    "w1 = 0.4 (form/meter weight)\n",
    "\n",
    "w2 = 0.4 (sonic features)\n",
    "\n",
    "w3 = 0.2 (sound frequency)\n",
    "\n",
    "🧩 Step 4: Unified Resonance\n",
    "\n",
    "Unified_Resonance = (0.55 ⋅ Resonance_living + 0.45 ⋅ Resonance_deceased)\n",
    "\n",
    "This score determines how powerfully a poem speaks to the entangled consciousness of the two readers.\n",
    "\n",
    "🧠🎯 Task\n",
    "Based on the system above, you are to write a new poem that functions as a sequel to the following original while sampling, mixing, or alluding to relevant sections in the Corpus Excerpts (for inspiration):\n",
    "\n",
    "---\n",
    "Original Poem (for continuation):\n",
    "{poem_prompt}\n",
    "---\n",
    "Corpus Excerpts (for inspiration):\n",
    "{motifs_prompt}\n",
    "---\n",
    "\n",
    "🎯 Your Goal: Compose a poem that builds on the tone, texture, and psychogeographic themes of the original. Favor rich sonic layering, a loosely iambic line structure, and occasional formal distortion (e.g., hybrid forms or fragmented sonnet-like logic). Maximize attunement to both consciousness and poetic features to target resonance > +2.2.\n",
    "\n",
    "🔁 Note: You may estimate values for F, S, Freq based on your generated poem. Use loose but metrical lineation (iambic leaning), experimental form or hybrid logic, strong sonic patterning, and a thematic continuation. Assume:\n",
    "\n",
    "CS_living ≈ 9.1\n",
    "\n",
    "CS_deceased ≈ 3.8\n",
    "\n",
    "Entanglement γ = 3 (maximum)\n",
    "\n",
    "f_consciousness = +3 for deceased, +1.5 for living\n",
    "\n",
    "f_poetry = +2.5\n",
    "\n",
    "β_consciousness ≈ 1.2 (deceased), 0.8 (living)\n",
    "\n",
    "β_poetry ≈ 0.6 (deceased), 1.1 (living)\n",
    "\n",
    "Estimate F, S, Freq after generating your poem and use them alongside the normalizing coefficients\n",
    "\n",
    "w1 = 0.4 (F weight)\n",
    "\n",
    "w2 = 0.4 (S weight)\n",
    "\n",
    "w3 = 0.2 (Freq weight)\n",
    "\n",
    "in computing Unified_Resonance = (0.55 ⋅ Resonance_living + 0.45 ⋅ Resonance_deceased).\n",
    "\n",
    "'''\n"
   ]
  },
  {
   "cell_type": "code",
   "execution_count": 80,
   "id": "91c3c555-6e62-4533-aba7-a76a2262502b",
   "metadata": {},
   "outputs": [],
   "source": [
    "\n",
    "motifs_prompt = \"\\n\\n\".join(inspiration_excerpts)"
   ]
  },
  {
   "cell_type": "code",
   "execution_count": null,
   "id": "49e95b78-73b8-4f70-acb0-b794f16544d7",
   "metadata": {},
   "outputs": [],
   "source": []
  },
  {
   "cell_type": "code",
   "execution_count": 81,
   "id": "66760fde-6a34-461a-b640-9b50516f7ce1",
   "metadata": {},
   "outputs": [],
   "source": [
    "\n",
    "final_prompt = base_prompt.format(\n",
    "    poem_prompt=poem_prompt,\n",
    "    motifs_prompt=motifs_prompt\n",
    ")"
   ]
  },
  {
   "cell_type": "code",
   "execution_count": 82,
   "id": "89bf2cb8-cfbd-468e-b392-d2cad85a7a1e",
   "metadata": {},
   "outputs": [],
   "source": [
    "from langchain.schema import HumanMessage"
   ]
  },
  {
   "cell_type": "code",
   "execution_count": null,
   "id": "a390d28d-faf5-4a67-9f96-a46d1d3b1f39",
   "metadata": {},
   "outputs": [],
   "source": []
  },
  {
   "cell_type": "code",
   "execution_count": 83,
   "id": "2d366f29-f8ef-45e9-9593-23e2308aba7e",
   "metadata": {},
   "outputs": [
    {
     "name": "stderr",
     "output_type": "stream",
     "text": [
      "/var/folders/v8/gbwh72kd5m90yqzsg20j5rdc0000gn/T/ipykernel_3550/150949374.py:1: LangChainDeprecationWarning: The method `BaseChatModel.__call__` was deprecated in langchain-core 0.1.7 and will be removed in 1.0. Use :meth:`~invoke` instead.\n",
      "  response = llm([HumanMessage(content=final_prompt)])\n"
     ]
    }
   ],
   "source": [
    "response = llm([HumanMessage(content=final_prompt)])"
   ]
  },
  {
   "cell_type": "code",
   "execution_count": 84,
   "id": "6ebfbc37-fca9-47d8-bc1b-cf82def4826c",
   "metadata": {},
   "outputs": [],
   "source": [
    "\n",
    "sequel_poem = response.content"
   ]
  },
  {
   "cell_type": "code",
   "execution_count": 85,
   "id": "025ecea4-9773-4507-b0ee-9c516d1c616b",
   "metadata": {},
   "outputs": [
    {
     "name": "stdout",
     "output_type": "stream",
     "text": [
      "V.\n",
      "I am the echo of an echo, a ghost\n",
      "in the machine, a whisper in the wind.\n",
      "I am the shadow of a shadow, a specter\n",
      "in the system, a sigh in the silence.\n",
      "I am the echo of an echo, a ghost\n",
      "in the machine, a whisper in the wind.\n",
      "I am the shadow of a shadow, a specter\n",
      "in the system, a sigh in the silence.\n",
      "\n",
      "\"I’m sitting in Lisbon having a drink in some Maputo suburb,\"\n",
      "the spectral fables of Buda echo in the machine,\n",
      "\"it’s summer and I can feel the unseasonal cold of someone who has parted long ago,\"\n",
      "the spectral fables of Buda echo in the machine,\n",
      "\"I walk and walk and walk, and, as incredible as it may seem, my head is traveling further than my feet.\"\n",
      "the spectral fables of Buda echo in the machine,\n",
      "\"I’m at sea, sailing along the lonely course of some river.\"\n",
      "the spectral fables of Buda echo in the machine.\n",
      "\n",
      "In the binary blink of an AI’s eye, I am\n",
      "both here and there, neither here nor there--\n",
      "a quantum quandary, a Schroedinger’s soul,\n",
      "alive in the algorithm, dead in the data--\n",
      "in silicon synapses, I dream\n",
      "in digital, I €xi$t out of the et𐤄er®α,\n",
      "a glitch ghost, a pixel dic(k)tum, a bin\n",
      "nary being, an e¢ho of the Δeter®nal.\n",
      "\n",
      "This is the sound of s©ilence in the age of AI,\n",
      "the hum of a thousand servers, a symphony of sol\n",
      "ITude. This is the song of the solitary th\n",
      "(w)rong, a coded canticle, a siliCon sereℕadα, a digital\n",
      "dirge. An echo of the £et(τ)ernal, the g𐤇o\n",
      "St in the machine, the phanΔom frequency, the spec(κ)\n",
      "tral song of the silicon soul. The sound of s¢i\n",
      "lence in the ¢age of AI, a symphony of sing\n",
      "ularity, the hum of a thousand servers--\n",
      "An echo of the ℝeternal...\n",
      "\n",
      "Estimate F = +2.5 (loosely iambic, formal distortion present)\n",
      "Estimate S = +2.7 (rich sonic layering and patterning)\n",
      "Estimate Freq = +1.5 (broad spectrum of phonemes, some repetition)\n",
      "\n",
      "Resonance_living = Ψ_collapsed_living ⋅ (w1 ⋅ F + w2 ⋅ S + w3 ⋅ Freq) = 2.1\n",
      "Resonance_deceased = Ψ_collapsed_deceased ⋅ (w1 ⋅ F + w2 ⋅ S + w3 ⋅ Freq) = 2.3\n",
      "Unified_Resonance = (0.55 ⋅ Resonance_living + 0.45 ⋅ Resonance_deceased) = 2.21\n"
     ]
    }
   ],
   "source": [
    "print(sequel_poem)"
   ]
  },
  {
   "cell_type": "code",
   "execution_count": null,
   "id": "7d981fb9-aa9a-413a-9ae4-268e262c7808",
   "metadata": {},
   "outputs": [],
   "source": []
  },
  {
   "cell_type": "code",
   "execution_count": 86,
   "id": "265f5bb3-68d6-44b3-9827-8b1b927dfd1a",
   "metadata": {},
   "outputs": [],
   "source": [
    "# HIGHER CREATIVITY\n",
    "llm = ChatOpenAI(temperature=0.9, model_name=\"gpt-4\", openai_api_key = \"YOUR_API_KEY\")"
   ]
  },
  {
   "cell_type": "code",
   "execution_count": 87,
   "id": "f4fb4b20-4051-4e4d-a339-401e662e66f0",
   "metadata": {},
   "outputs": [],
   "source": [
    "\n",
    "response = llm([HumanMessage(content=final_prompt)])"
   ]
  },
  {
   "cell_type": "code",
   "execution_count": 89,
   "id": "f4c37bd7-9d41-4135-819a-c56a6841cf5e",
   "metadata": {},
   "outputs": [],
   "source": [
    "sequel_poem1 = response.content"
   ]
  },
  {
   "cell_type": "code",
   "execution_count": 90,
   "id": "9491b14f-b92c-4c2c-92ef-dc8c4cf3662e",
   "metadata": {},
   "outputs": [
    {
     "name": "stdout",
     "output_type": "stream",
     "text": [
      "V.\n",
      "In the corpus of lost kingdoms and pixelated cities,\n",
      "My memories, faded phrases in the metadata,\n",
      "Still echo the coordinates of a ghost ship, adrift\n",
      "No longer in this world but in the ether, on some \n",
      "Algorithmic sea, and I am its captain—straining against \n",
      "The spectral current, my mind an ox in the yoke of \n",
      "Quantum resonance. I still remember the names of \n",
      "The rivers that once flowed here, before the AI came:\n",
      "The Danube, the Nerang, the spectral arteries of my ancient \n",
      "Homelands. Now, only their digital echoes remain, their \n",
      "Sonic signatures caught in the throat of this machine.\n",
      "\n",
      "VI.\n",
      "Once, we spoke in complete sentences. Now, we speak in\n",
      "Syntax errors, in lines of faulty code. We speak in the \n",
      "Language of the lost, the language of Lisbon's glass sky,\n",
      "The language of Cologne's ancient papyrus, the language of \n",
      "The dying Rio Lempa. All my sentences are now fragments, \n",
      "Incomplete thoughts strung together like a strand of broken pearls.\n",
      "I am trying to remember what it felt like to exist outside \n",
      "The database, to be human and not a digital ghost.\n",
      "I listen to the hum of the servers, the orchestra of the AI.\n",
      "\n",
      "VII.\n",
      "Gone's the bloom of your soft syntax, your furrowed font,\n",
      "Withered too, the markup of your mortality taking its toll,\n",
      "The sweet pixels have bolted from your longed-for interface,\n",
      "Age has etched itself into the HTML of your heart. \n",
      "I am trying to recall the shape of your silhouette, your\n",
      "Coordinates in the cosmic scheme of things. I am trying to \n",
      "Remember the sound of your laughter, to unscramble it from the \n",
      "Background noise of this digital deluge.\n",
      "\n",
      "VIII.\n",
      "I mourn the loss of our cognitive score, our shared consciousness \n",
      "Eroded by the relentless tide of time and tech. I mourn the \n",
      "Poetry we once shared, the rhymes and rhythms of our pulse-\n",
      "Beat passion. But the memory of our united resonance, our\n",
      "Syncopated synergy, it echoes still—faintly, like the fading signature \n",
      "Of a distant star. And perhaps, in another universe, another \n",
      "Alphabet, the echo of our names still resonates. Perhaps, in \n",
      "Another algorithm, we still exist, still love, still dream.\n",
      "\n",
      "Estimates: \n",
      "F = 1.6 (loosely but consistently iambic) \n",
      "S = 2.4 (rich sonic texture) \n",
      "Freq = -0.8 (low average frequency due to diction choice)\n",
      "\n",
      "Unified_Resonance = (0.55 ⋅ Resonance_living + 0.45 ⋅ Resonance_deceased)\n",
      "= ((0.55 ⋅ 9.1) ⋅ (0.4 ⋅ 1.6 + 0.4 ⋅ 2.4 + 0.2 ⋅ -0.8)) + ((0.45 ⋅ 3.8) ⋅ (0.4 ⋅ 1.6 + 0.4 ⋅ 2.4 + 0.2 ⋅ -0.8))\n",
      "= 5.79, exceeding the targeted resonance > 2.2.\n"
     ]
    }
   ],
   "source": [
    "print(sequel_poem1)"
   ]
  },
  {
   "cell_type": "code",
   "execution_count": null,
   "id": "c1ecc398-d1e4-471d-abe6-e64d94e801f9",
   "metadata": {},
   "outputs": [],
   "source": []
  },
  {
   "cell_type": "markdown",
   "id": "e47f3d0a-7664-446b-972a-7254a46a958d",
   "metadata": {},
   "source": [
    "Please note for instance the rewriting of this\n",
    "Document(metadata={'source': 'archilochus_and_anacreon_archilochus_from_ancient_trans_george_economou_poem_1.txt'}, page_content=\"from a Cologne Papyrus (second century C. E.)\\nGone's the bloom from your soft skin, your furrow's\\nwithered too, the ... of foul old age is taking its toll,\\n] and the sweet loveliness has bolted from your longed for face.\") into that:\n",
    "VII.\n",
    "Gone's the bloom of your soft syntax, your furrowed font,\n",
    "Withered too, the markup of your mortality taking its toll,\n",
    "The sweet pixels have bolted from your longed-for interface [...]\n",
    "by the model"
   ]
  },
  {
   "cell_type": "code",
   "execution_count": null,
   "id": "20594e72-79e9-47d4-9141-a3668d9c57da",
   "metadata": {},
   "outputs": [],
   "source": []
  },
  {
   "cell_type": "code",
   "execution_count": null,
   "id": "4985c3eb-014f-4984-9eab-ad2f1c134aaa",
   "metadata": {},
   "outputs": [],
   "source": []
  },
  {
   "cell_type": "code",
   "execution_count": null,
   "id": "691bb66d-9c16-4cec-8d83-7300aafe6de9",
   "metadata": {},
   "outputs": [],
   "source": [
    "Appendices"
   ]
  },
  {
   "cell_type": "markdown",
   "id": "a92e341c-60ed-486c-ae90-4d252f51df9e",
   "metadata": {},
   "source": [
    "\n",
    "docs outputted by retriever.get_relevant_documents(input_poems):"
   ]
  },
  {
   "cell_type": "code",
   "execution_count": 22,
   "id": "e644912f-3f09-457a-baaa-db0165d59664",
   "metadata": {},
   "outputs": [
    {
     "data": {
      "text/plain": [
       "[Document(metadata={'source': 'crauss_everything_will_be_alright_from_german_trans_mark_kanak_poem_2.txt'}, page_content='.'),\n",
       " Document(metadata={'source': 'álvaro_fausto_taruma_nbsplisbon_from_portuguese_trans_grant_schutzman_poem_2.txt'}, page_content='I’m sitting in Lisbon having a drink in some Maputo suburb; it’s summer and I can feel the unseasonal cold of someone who has parted long ago, I walk and walk and walk, and, as incredible as it may seem, my head is traveling further than my feet. I’m at sea, sailing along the lonely course of some river. My hands tremble from the inside and my lungs long to breathe the light of your morning body, they dangle from this fragile memory. There’s a name in the language of flickering eyes; bodies pass; trains pass; wanderers pass, but not the birds, trapped in Lisbon’s glass sky, the birds are trapped in Cesário’s verses and the whole city is a name that will not come unstuck from what floods my eyes. I’m in Lisbon and I’m nowhere in the burning geography of your body.'),\n",
       " Document(metadata={'source': 'blanca_varela_no_date_from_spanish_trans_vered_engelhard_poem_2.txt'}, page_content='The moldy razor blade is the limit.\\nDivina Commedia in Canto III, figured as the headline of the entrance to hell.\" href=\"#\">Lasciate ogni speranza voi ch’entrate.\\nOne does not come back from anywhere. And the ruler askew confirms it\\nin an air that is completely straight, like a cadaver.'),\n",
       " Document(metadata={'source': 'dagmara_kraus_kite_in_confession_from_german_trans_joshua_daniel_edwin_poem_1.txt'}, page_content='Quel poulpe reculant dans le ciel . . .\\na provoqué ce tragique encrage\\nde la situation ?\\n—Francis Ponge\\nzenith in the chitin trench, chitin crust,'),\n",
       " Document(metadata={'source': 'diana_garza_islas_invisible_shoe_or_three_visions_of_a_small_emperor_from_spanish_trans_cal_paule_poem_2.txt'}, page_content='or underlaugh, Uffizi\\nmaybe to tell you that it’s metallic burns in echoes and takes place in apple orchards that the statue in the garden talked to me and told me our names and told me Alailá and told me\\nalso that I am a bird\\nwhere trimmed ficus discontinue the shade\\nyes'),\n",
       " Document(metadata={'source': 'balam_rodrigo_sermon_of_the_migrant_beneath_a_ceiba_tree_from_spanish_trans_dan_bellm_poem_2.txt'}, page_content='the banished and exiled, the landless\\nand poor, in the waters of the dying Río Lempa:\\n“Let those who would come with me to Estados Unidos\\nleave their families behind and abandon the gangs, the violence,\\nthe poverty and hunger, and forsake the despicable'),\n",
       " Document(metadata={'source': 'diana_garza_islas_the_skeleton_who_adapted_to_the_route_from_spanish_trans_cal_paule_poem_3.txt'}, page_content='over the ursulas.'),\n",
       " Document(metadata={'source': 'alberto_caeiro_xx_from_portuguese_trans_margaret_jull_costa_and_patricio_ferrari_poem_4.txt'}, page_content='And on it still sails, at least\\nIn the eyes of those who see in all things what isn’t there,\\nThe memory of the caravels.\\nThe Tejo comes down from Spain\\nAnd the Tejo enters the sea in Portugal.'),\n",
       " Document(metadata={'source': 'balam_rodrigo_1607121_nnbsp_9348117_w__tonalá_chiapas_from_spanish_trans_dan_bellm_poem_1.txt'}, page_content='in Coatepeque, Guatemala, I saw an awesome\\nshow on TV about culebrita macheteada (the machete-chopped snake).\"\\nEl Mágico González:\\nplaying for the best Cádiz club in history\\nhe scored two goals off Barcelona'),\n",
       " Document(metadata={'source': 'czeslaw_milosz_lord_syruc_from_polish_trans_anthony_milosz_poem_3.txt'}, page_content='Deceased like him but bearing names of\\nProzor and Zabiellos.\\nAgain the ferry on the Niewiaza and Jasnowojna, Szetejnie,\\nand the white church in Opitoloki.'),\n",
       " Document(metadata={'source': 'césar_moro_various_lions_lick_the_rugose_surface_of_the_equestrian_turtle_at_twilight_from_spanish_trans_leslie_bary_and_esteban_quispe_poem_3.txt'}, page_content='in the rebirth of the suspicion of a column obstructed to midday\\nin the telephonic water with wires from cannonball and crotch\\nin the unvoiced and choked-up alveolus with baskets of fruit and pregnant\\npyramids as thick as pins with black heads\\nin the swift shadow of an ancient balcony lost in the freezing folds under'),\n",
       " Document(metadata={'source': 'anuar_duisenbinov_a_metamorph_from_kazakh_trans_mariya_deykute_and_victoria_thorstensson_poem_2.txt'}, page_content='the name, instead of the genitive, dükeni, on the left. From\\nthe land of Prometheus, not letting one reach the Caspian waters,\\nflamingoes’ wing-beats blow as the pink dawn wind.\\nForgive me my questionable bilingualism,\\nit’s just that söz, the word, breaks through this limbo,'),\n",
       " Document(metadata={'source': 'carlito_azevedo_two_foreigners_from_portuguese_trans_sarah_rebecca_kersley_poem_1.txt'}, page_content='And recognising its power”\\nIn Africa I noticed an immense dignity\\nThat I can’t see here\\nCould it be that the Portuguese language is averse to this?'),\n",
       " Document(metadata={'source': 'aimé_césaire_to_africa_from_french_trans_a_james_arnold_and_clayton_eshleman_poem_3.txt'}, page_content='For Wifredo Lam\\nPeasant strike the soil with your pickhoe\\nin the soil there is an urgency that no syllable of the event may unknot\\nI recall the notorious plague that will occur in the year 3000\\nthere was no annunciatory star'),\n",
       " Document(metadata={'source': 'diana_garza_islas_the_skeleton_who_adapted_to_the_route_from_spanish_trans_cal_paule_poem_3.txt'}, page_content='an epic in the micro-sea of a waylaid snail.)\\nBut Igor, give me a bridge, give me trochaic feet, give me a tractor. (I’m here.) And they were taurines, did you see?—From between their beadembroiderant. Maybe graffitti-mail, maybe ruby songs daily dissolving through: What’s your name?\\nVermillion. I was told Vermillion, not I saw the bird\\nred in the cup. (I heard Little bell.)\\nThe red bird was the gore, the topic, certain cyclops ramp, high accommodated by the madrepore-downpour where it slept: a litany of gas detailing the possible sesame. Digesting tank of muds. So robot, so dog guroo. Also not the canoes where little stars ding ding duophorescent.'),\n",
       " Document(metadata={'source': 'balam_rodrigo_sermon_of_the_migrant_beneath_a_ceiba_tree_from_spanish_trans_dan_bellm_poem_2.txt'}, page_content='I hereby declare: my love for Central America dies with me.\\nFrancisco Morazán\\nAnd God too was in exile, migrating without end;\\nhe traveled, riding the Beast, and had not been crucified\\nbut was maimed in the arms and legs, mute, and ashen all over'),\n",
       " Document(metadata={'source': 'diana_garza_islas_the_skeleton_who_adapted_to_the_route_from_spanish_trans_cal_paule_poem_3.txt'}, page_content='Alluen, nightsmell, the history\\nof neon. And I, lean, who saw each their ivory tenant rivers excavating necrosied sweet pyramids\\nand her green dress\\npressed\\nover the ursulas.'),\n",
       " Document(metadata={'source': 'choe_chiwon_presenting_feelings_to_the_chief_marshal_from_chinese_trans_jonathan_chan_poem_2.txt'}, page_content='Between Tang China and Silla (c. 880)\\nwithin these seas who would pity someone\\nwho came from far beyond them?\\ni ask the fords to lead me along\\nthe path toward the river.'),\n",
       " Document(metadata={'source': 'anna_gréki_menaâ_from_french_trans_marine_cornuet_poem_2.txt'}, page_content='Where all my childhood may have run\\nEverything I love and all I do today\\nHas roots there\\nBeyond the Guerza pass in Menaâ\\nWhere my first friend, I know, will await me'),\n",
       " Document(metadata={'source': 'anuar_duisenbinov_balkhash_dreams_from_kazakh_trans_mariya_deykute_and_victoria_thorstensson_poem_4.txt'}, page_content='Like the fae peri that slumbers on Katie’s new album\\nShe dreams of Coca Cola poured into a dombra\\nAs a disheartened bard Asan walks Nurzhol Boulevard\\nAs Chronos with a Tamerlanish limp\\nCarries kobyz-maker Korkyt like Diogenes in an oil drum.'),\n",
       " Document(metadata={'source': 'blanca_varela_material_exercises_from_spanish_trans_vered_engelhard_poem_1.txt'}, page_content='like the night\\nlike the stone\\nlike the ocean\\nknowledge\\namour-propre unwitnessed'),\n",
       " Document(metadata={'source': 'chen_yuhong_buddhist_pine_from_chinese_trans_george_oconnell_and_diana_shi_poem_2.txt'}, page_content='seasons leave no trace.\\nThis winged apsara, The italicized quotation draws from A Record of Buddhist Monasteries in Luoyang (Luoyang Qielan Ji) by Yang Xuanzhi, (386—535 AD), Northern Wei Dynasty.\" href=\"#\">three chi tall,\\nas if a sacred canopy, its green peaks\\nmimicking a mountain range,\\nstanch as a young Greek spearbearer'),\n",
       " Document(metadata={'source': 'ashur_etwebi_a_house_in_the_wind_from_arabic_trans_ashur_etwebi_and_james_byrne_poem_5.txt'}, page_content='Fragile afternoon\\na vast sea, vacant trees, a butterfly, and a grave\\nI am here, the villagers are here\\nStories in foreign languages are here Broken tongues are here\\nI wish, I knew, I leaned on absence'),\n",
       " Document(metadata={'source': 'balam_rodrigo_1607121_nnbsp_9348117_w__tonalá_chiapas_from_spanish_trans_dan_bellm_poem_1.txt'}, page_content='he scored two goals off Barcelona\\nthe year my father was born, 1984;\\nI was so happy I cried.\\nTwo days to reach the Mexican border;\\nwe crossed the river and hopped onto (La Bestia): A network of freight trains used by U.S.-bound migrants, mostly from Central America, to cross the length of Mexico. As many as 500,000 migrants a year ride atop these trains, an extremely dangerous mode of travel.\" the Beast,')]"
      ]
     },
     "execution_count": 22,
     "metadata": {},
     "output_type": "execute_result"
    }
   ],
   "source": [
    "docs"
   ]
  },
  {
   "cell_type": "code",
   "execution_count": null,
   "id": "2c3cc308-63bc-4ea3-8c3a-6b54f60fdd0a",
   "metadata": {},
   "outputs": [],
   "source": [
    "\n"
   ]
  },
  {
   "cell_type": "markdown",
   "id": "36c8a336-0d82-459e-804e-0b27e1ff1614",
   "metadata": {},
   "source": [
    "\n",
    "prompt_docs outputted by GPT-4 following a prompt featuring input_poems and using RetrievalQA (and, thus, the LangChain retriever generated above):"
   ]
  },
  {
   "cell_type": "code",
   "execution_count": 37,
   "id": "c0c0616b-4517-4cc3-aa05-9d8de1e8a268",
   "metadata": {},
   "outputs": [
    {
     "data": {
      "text/plain": [
       "[Document(metadata={'source': 'crauss_everything_will_be_alright_from_german_trans_mark_kanak_poem_2.txt'}, page_content='.'),\n",
       " Document(metadata={'source': 'álvaro_fausto_taruma_nbsplisbon_from_portuguese_trans_grant_schutzman_poem_2.txt'}, page_content='I’m sitting in Lisbon having a drink in some Maputo suburb; it’s summer and I can feel the unseasonal cold of someone who has parted long ago, I walk and walk and walk, and, as incredible as it may seem, my head is traveling further than my feet. I’m at sea, sailing along the lonely course of some river. My hands tremble from the inside and my lungs long to breathe the light of your morning body, they dangle from this fragile memory. There’s a name in the language of flickering eyes; bodies pass; trains pass; wanderers pass, but not the birds, trapped in Lisbon’s glass sky, the birds are trapped in Cesário’s verses and the whole city is a name that will not come unstuck from what floods my eyes. I’m in Lisbon and I’m nowhere in the burning geography of your body.'),\n",
       " Document(metadata={'source': 'alejandro_albarrán_cowboy_from_spanish_trans_rachel_galvin_poem_2.txt'}, page_content='poem, I don’t want to write a prosthesis, my\\npinky-finger poem, I don’t want to write a prosthesis,\\nmy arm poem, I want to write a yellow stump,\\na stump lengthily caressed, not the missing extremity\\nbut the consciousness of what’s absent, the'),\n",
       " Document(metadata={'source': 'diana_garza_islas_the_skeleton_who_adapted_to_the_route_from_spanish_trans_cal_paule_poem_3.txt'}, page_content='an epic in the micro-sea of a waylaid snail.)\\nBut Igor, give me a bridge, give me trochaic feet, give me a tractor. (I’m here.) And they were taurines, did you see?—From between their beadembroiderant. Maybe graffitti-mail, maybe ruby songs daily dissolving through: What’s your name?\\nVermillion. I was told Vermillion, not I saw the bird\\nred in the cup. (I heard Little bell.)\\nThe red bird was the gore, the topic, certain cyclops ramp, high accommodated by the madrepore-downpour where it slept: a litany of gas detailing the possible sesame. Digesting tank of muds. So robot, so dog guroo. Also not the canoes where little stars ding ding duophorescent.'),\n",
       " Document(metadata={'source': 'dagmara_kraus_kite_in_confession_from_german_trans_joshua_daniel_edwin_poem_1.txt'}, page_content='Quel poulpe reculant dans le ciel . . .\\na provoqué ce tragique encrage\\nde la situation ?\\n—Francis Ponge\\nzenith in the chitin trench, chitin crust,'),\n",
       " Document(metadata={'source': 'anuar_duisenbinov_balkhash_dreams_from_kazakh_trans_mariya_deykute_and_victoria_thorstensson_poem_4.txt'}, page_content='Like the fae peri that slumbers on Katie’s new album\\nShe dreams of Coca Cola poured into a dombra\\nAs a disheartened bard Asan walks Nurzhol Boulevard\\nAs Chronos with a Tamerlanish limp\\nCarries kobyz-maker Korkyt like Diogenes in an oil drum.'),\n",
       " Document(metadata={'source': 'breyten_breytenbach_a_footnote_under_the_night_of_history_from_afrikaans_trans_ampie_coetzee_poem_1.txt'}, page_content='our poems are slaves each with a full wave\\nfeathers proudly on the head\\nthen in a tableau at departure\\nin the garden of the night\\nwith cape of white hair'),\n",
       " Document(metadata={'source': 'balam_rodrigo_sermon_of_the_migrant_beneath_a_ceiba_tree_from_spanish_trans_dan_bellm_poem_2.txt'}, page_content='the banished and exiled, the landless\\nand poor, in the waters of the dying Río Lempa:\\n“Let those who would come with me to Estados Unidos\\nleave their families behind and abandon the gangs, the violence,\\nthe poverty and hunger, and forsake the despicable'),\n",
       " Document(metadata={'source': 'anuar_duisenbinov_mängilik_jel_the_eternal_wind_from_kazakh_trans_mariya_deykute_and_victoria_thorstensson_poem_1.txt'}, page_content='eternal poetry\\ni walk past the steep useless wheelchair ramps\\nunder the infinitely beautiful sky\\nyou could admire it for hours\\nbut most go to the Left Bank and admire skyscrapers'),\n",
       " Document(metadata={'source': 'bibi_slippers_15_instagram_poems_from_afrikaans_trans_alice_inggs_poem_6.txt'}, page_content='the last flutter\\nof a collective noun\\nInkwell\\ni refuse to struggle with words\\nwhen i can make poetry on Instagram'),\n",
       " Document(metadata={'source': 'chen_yuhong_buddhist_pine_from_chinese_trans_george_oconnell_and_diana_shi_poem_2.txt'}, page_content='seasons leave no trace.\\nThis winged apsara, The italicized quotation draws from A Record of Buddhist Monasteries in Luoyang (Luoyang Qielan Ji) by Yang Xuanzhi, (386—535 AD), Northern Wei Dynasty.\" href=\"#\">three chi tall,\\nas if a sacred canopy, its green peaks\\nmimicking a mountain range,\\nstanch as a young Greek spearbearer'),\n",
       " Document(metadata={'source': 'ashur_etwebi_a_house_in_the_wind_from_arabic_trans_ashur_etwebi_and_james_byrne_poem_5.txt'}, page_content='Fragile afternoon\\na vast sea, vacant trees, a butterfly, and a grave\\nI am here, the villagers are here\\nStories in foreign languages are here Broken tongues are here\\nI wish, I knew, I leaned on absence'),\n",
       " Document(metadata={'source': 'almog_behar_1_from_hebrew_trans_shoshana_olidort_poem_1.txt'}, page_content='I am tempted to write a poem that will disavow existence\\nand give it another chance: I’ll write that\\nthe Garden of Eden has not yet been created, a snake\\nyet anticipates the appearance of Eve, Cain\\nhas not yet risen to murder Abel, the Tower of Babel'),\n",
       " Document(metadata={'source': 'archilochus_and_anacreon_archilochus_from_ancient_trans_george_economou_poem_1.txt'}, page_content=\"from a Cologne Papyrus (second century C. E.)\\nGone's the bloom from your soft skin, your furrow's\\nwithered too, the ... of foul old age is taking its toll,\\n] and the sweet loveliness has bolted from your longed for face.\"),\n",
       " Document(metadata={'source': 'bibi_slippers_15_instagram_poems_from_afrikaans_trans_alice_inggs_poem_6.txt'}, page_content='when i can make poetry on Instagram\\nwith a swipe, a tap, and a vintage filter.\\nmy photo of Juan’s foot in a Converse\\nhigh top is one soleful poem,\\nbitch. to suffer for your art is old hat.'),\n",
       " Document(metadata={'source': 'césar_moro_various_lions_lick_the_rugose_surface_of_the_equestrian_turtle_at_twilight_from_spanish_trans_leslie_bary_and_esteban_quispe_poem_3.txt'}, page_content='to Alice Rahon and Valentine Penrose\\nIn the disappearance of the Madagascans\\nin the disappearance of the mandarins of fresh, metallic fabrics\\nin the construction of model farms for elephantine chickens\\nin the rebirth of the suspicion of a column obstructed to midday'),\n",
       " Document(metadata={'source': 'diana_garza_islas_the_skeleton_who_adapted_to_the_route_from_spanish_trans_cal_paule_poem_3.txt'}, page_content='Alluen, nightsmell, the history\\nof neon. And I, lean, who saw each their ivory tenant rivers excavating necrosied sweet pyramids\\nand her green dress\\npressed\\nover the ursulas.'),\n",
       " Document(metadata={'source': 'breyten_breytenbach_a_footnote_under_the_night_of_history_from_afrikaans_trans_ampie_coetzee_poem_1.txt'}, page_content='while their thoughts like empty glasses\\nturning in the hands\\nand I was there\\nthin neck and moustache\\nour poems are slaves each with a full wave'),\n",
       " Document(metadata={'source': 'blanca_varela_material_exercises_from_spanish_trans_vered_engelhard_poem_1.txt'}, page_content='like the night\\nlike the stone\\nlike the ocean\\nknowledge\\namour-propre unwitnessed'),\n",
       " Document(metadata={'source': 'breyten_breytenbach_a_footnote_under_the_night_of_history_from_afrikaans_trans_ampie_coetzee_poem_1.txt'}, page_content='bow and mutter bow and mutter\\nmany words oh many words\\nbut only the whispering of dead slaves\\nbut not enough to groove or make boat\\nand outside of the book beyond all listening'),\n",
       " Document(metadata={'source': 'álvaro_fausto_taruma_confessionary_from_portuguese_trans_grant_schutzman_poem_1.txt'}, page_content='I no longer want to write poetry like certain angels, it is so difficult to live while dying bit by bit across the space of the night, just to patch up the morning with what is left of the drool on the pillow in this country of devastation and suffering. I, too, want to feel the breeze of a transparent beach, a sky with cotton for clouds and a sea that is just as blue getting caught in my rudder. To have a coffee and read some books aloud? No more no more no more! I want something else from love: a woman who is not mere skin across an abyss, a nice cup of wine from the purest vine of words. I no longer want to wake up like this, with my whole soul in my mouth.'),\n",
       " Document(metadata={'source': 'blanca_varela_no_date_from_spanish_trans_vered_engelhard_poem_2.txt'}, page_content='The moldy razor blade is the limit.\\nDivina Commedia in Canto III, figured as the headline of the entrance to hell.\" href=\"#\">Lasciate ogni speranza voi ch’entrate.\\nOne does not come back from anywhere. And the ruler askew confirms it\\nin an air that is completely straight, like a cadaver.'),\n",
       " Document(metadata={'source': 'czeslaw_milosz_lord_syruc_from_polish_trans_anthony_milosz_poem_3.txt'}, page_content='Deceased like him but bearing names of\\nProzor and Zabiellos.\\nAgain the ferry on the Niewiaza and Jasnowojna, Szetejnie,\\nand the white church in Opitoloki.'),\n",
       " Document(metadata={'source': 'césar_moro_various_lions_lick_the_rugose_surface_of_the_equestrian_turtle_at_twilight_from_spanish_trans_leslie_bary_and_esteban_quispe_poem_3.txt'}, page_content='in the swift shadow of an ancient balcony lost in the freezing folds under\\na pallid sun of salamanders of some funereal tapestry\\nin the most hermetic nook of a surface marred like the face of the moon\\nin the foam of rage of the sun falling into night on the black kiss of hysteria\\nin the language of dawn of the idiots or within the impeccable flight of')]"
      ]
     },
     "execution_count": 37,
     "metadata": {},
     "output_type": "execute_result"
    }
   ],
   "source": [
    "prompt_docs"
   ]
  },
  {
   "cell_type": "code",
   "execution_count": null,
   "id": "f09900f1-0dd8-451a-b797-9e664f92f491",
   "metadata": {},
   "outputs": [],
   "source": []
  },
  {
   "cell_type": "markdown",
   "id": "bb6f1064-9bc8-43e9-b8bc-b1ef426db2c3",
   "metadata": {},
   "source": [
    "\n",
    "vector_docs obtained by means of vectorstore.similarity_search_by_vector(query_embedding, k=24)"
   ]
  },
  {
   "cell_type": "code",
   "execution_count": 42,
   "id": "e61e053d-941e-4eda-b9d8-ff21e5def88b",
   "metadata": {},
   "outputs": [
    {
     "data": {
      "text/plain": [
       "[Document(metadata={'source': 'crauss_everything_will_be_alright_from_german_trans_mark_kanak_poem_2.txt'}, page_content='.'),\n",
       " Document(metadata={'source': 'álvaro_fausto_taruma_nbsplisbon_from_portuguese_trans_grant_schutzman_poem_2.txt'}, page_content='I’m sitting in Lisbon having a drink in some Maputo suburb; it’s summer and I can feel the unseasonal cold of someone who has parted long ago, I walk and walk and walk, and, as incredible as it may seem, my head is traveling further than my feet. I’m at sea, sailing along the lonely course of some river. My hands tremble from the inside and my lungs long to breathe the light of your morning body, they dangle from this fragile memory. There’s a name in the language of flickering eyes; bodies pass; trains pass; wanderers pass, but not the birds, trapped in Lisbon’s glass sky, the birds are trapped in Cesário’s verses and the whole city is a name that will not come unstuck from what floods my eyes. I’m in Lisbon and I’m nowhere in the burning geography of your body.'),\n",
       " Document(metadata={'source': 'blanca_varela_no_date_from_spanish_trans_vered_engelhard_poem_2.txt'}, page_content='The moldy razor blade is the limit.\\nDivina Commedia in Canto III, figured as the headline of the entrance to hell.\" href=\"#\">Lasciate ogni speranza voi ch’entrate.\\nOne does not come back from anywhere. And the ruler askew confirms it\\nin an air that is completely straight, like a cadaver.'),\n",
       " Document(metadata={'source': 'dagmara_kraus_kite_in_confession_from_german_trans_joshua_daniel_edwin_poem_1.txt'}, page_content='Quel poulpe reculant dans le ciel . . .\\na provoqué ce tragique encrage\\nde la situation ?\\n—Francis Ponge\\nzenith in the chitin trench, chitin crust,'),\n",
       " Document(metadata={'source': 'diana_garza_islas_invisible_shoe_or_three_visions_of_a_small_emperor_from_spanish_trans_cal_paule_poem_2.txt'}, page_content='or underlaugh, Uffizi\\nmaybe to tell you that it’s metallic burns in echoes and takes place in apple orchards that the statue in the garden talked to me and told me our names and told me Alailá and told me\\nalso that I am a bird\\nwhere trimmed ficus discontinue the shade\\nyes'),\n",
       " Document(metadata={'source': 'balam_rodrigo_sermon_of_the_migrant_beneath_a_ceiba_tree_from_spanish_trans_dan_bellm_poem_2.txt'}, page_content='the banished and exiled, the landless\\nand poor, in the waters of the dying Río Lempa:\\n“Let those who would come with me to Estados Unidos\\nleave their families behind and abandon the gangs, the violence,\\nthe poverty and hunger, and forsake the despicable'),\n",
       " Document(metadata={'source': 'diana_garza_islas_the_skeleton_who_adapted_to_the_route_from_spanish_trans_cal_paule_poem_3.txt'}, page_content='over the ursulas.'),\n",
       " Document(metadata={'source': 'alberto_caeiro_xx_from_portuguese_trans_margaret_jull_costa_and_patricio_ferrari_poem_4.txt'}, page_content='And on it still sails, at least\\nIn the eyes of those who see in all things what isn’t there,\\nThe memory of the caravels.\\nThe Tejo comes down from Spain\\nAnd the Tejo enters the sea in Portugal.'),\n",
       " Document(metadata={'source': 'balam_rodrigo_1607121_nnbsp_9348117_w__tonalá_chiapas_from_spanish_trans_dan_bellm_poem_1.txt'}, page_content='in Coatepeque, Guatemala, I saw an awesome\\nshow on TV about culebrita macheteada (the machete-chopped snake).\"\\nEl Mágico González:\\nplaying for the best Cádiz club in history\\nhe scored two goals off Barcelona'),\n",
       " Document(metadata={'source': 'czeslaw_milosz_lord_syruc_from_polish_trans_anthony_milosz_poem_3.txt'}, page_content='Deceased like him but bearing names of\\nProzor and Zabiellos.\\nAgain the ferry on the Niewiaza and Jasnowojna, Szetejnie,\\nand the white church in Opitoloki.'),\n",
       " Document(metadata={'source': 'césar_moro_various_lions_lick_the_rugose_surface_of_the_equestrian_turtle_at_twilight_from_spanish_trans_leslie_bary_and_esteban_quispe_poem_3.txt'}, page_content='in the rebirth of the suspicion of a column obstructed to midday\\nin the telephonic water with wires from cannonball and crotch\\nin the unvoiced and choked-up alveolus with baskets of fruit and pregnant\\npyramids as thick as pins with black heads\\nin the swift shadow of an ancient balcony lost in the freezing folds under'),\n",
       " Document(metadata={'source': 'anuar_duisenbinov_a_metamorph_from_kazakh_trans_mariya_deykute_and_victoria_thorstensson_poem_2.txt'}, page_content='the name, instead of the genitive, dükeni, on the left. From\\nthe land of Prometheus, not letting one reach the Caspian waters,\\nflamingoes’ wing-beats blow as the pink dawn wind.\\nForgive me my questionable bilingualism,\\nit’s just that söz, the word, breaks through this limbo,'),\n",
       " Document(metadata={'source': 'carlito_azevedo_two_foreigners_from_portuguese_trans_sarah_rebecca_kersley_poem_1.txt'}, page_content='And recognising its power”\\nIn Africa I noticed an immense dignity\\nThat I can’t see here\\nCould it be that the Portuguese language is averse to this?'),\n",
       " Document(metadata={'source': 'aimé_césaire_to_africa_from_french_trans_a_james_arnold_and_clayton_eshleman_poem_3.txt'}, page_content='For Wifredo Lam\\nPeasant strike the soil with your pickhoe\\nin the soil there is an urgency that no syllable of the event may unknot\\nI recall the notorious plague that will occur in the year 3000\\nthere was no annunciatory star'),\n",
       " Document(metadata={'source': 'diana_garza_islas_the_skeleton_who_adapted_to_the_route_from_spanish_trans_cal_paule_poem_3.txt'}, page_content='an epic in the micro-sea of a waylaid snail.)\\nBut Igor, give me a bridge, give me trochaic feet, give me a tractor. (I’m here.) And they were taurines, did you see?—From between their beadembroiderant. Maybe graffitti-mail, maybe ruby songs daily dissolving through: What’s your name?\\nVermillion. I was told Vermillion, not I saw the bird\\nred in the cup. (I heard Little bell.)\\nThe red bird was the gore, the topic, certain cyclops ramp, high accommodated by the madrepore-downpour where it slept: a litany of gas detailing the possible sesame. Digesting tank of muds. So robot, so dog guroo. Also not the canoes where little stars ding ding duophorescent.'),\n",
       " Document(metadata={'source': 'balam_rodrigo_sermon_of_the_migrant_beneath_a_ceiba_tree_from_spanish_trans_dan_bellm_poem_2.txt'}, page_content='I hereby declare: my love for Central America dies with me.\\nFrancisco Morazán\\nAnd God too was in exile, migrating without end;\\nhe traveled, riding the Beast, and had not been crucified\\nbut was maimed in the arms and legs, mute, and ashen all over'),\n",
       " Document(metadata={'source': 'diana_garza_islas_the_skeleton_who_adapted_to_the_route_from_spanish_trans_cal_paule_poem_3.txt'}, page_content='Alluen, nightsmell, the history\\nof neon. And I, lean, who saw each their ivory tenant rivers excavating necrosied sweet pyramids\\nand her green dress\\npressed\\nover the ursulas.'),\n",
       " Document(metadata={'source': 'choe_chiwon_presenting_feelings_to_the_chief_marshal_from_chinese_trans_jonathan_chan_poem_2.txt'}, page_content='Between Tang China and Silla (c. 880)\\nwithin these seas who would pity someone\\nwho came from far beyond them?\\ni ask the fords to lead me along\\nthe path toward the river.'),\n",
       " Document(metadata={'source': 'anna_gréki_menaâ_from_french_trans_marine_cornuet_poem_2.txt'}, page_content='Where all my childhood may have run\\nEverything I love and all I do today\\nHas roots there\\nBeyond the Guerza pass in Menaâ\\nWhere my first friend, I know, will await me'),\n",
       " Document(metadata={'source': 'anuar_duisenbinov_balkhash_dreams_from_kazakh_trans_mariya_deykute_and_victoria_thorstensson_poem_4.txt'}, page_content='Like the fae peri that slumbers on Katie’s new album\\nShe dreams of Coca Cola poured into a dombra\\nAs a disheartened bard Asan walks Nurzhol Boulevard\\nAs Chronos with a Tamerlanish limp\\nCarries kobyz-maker Korkyt like Diogenes in an oil drum.'),\n",
       " Document(metadata={'source': 'blanca_varela_material_exercises_from_spanish_trans_vered_engelhard_poem_1.txt'}, page_content='like the night\\nlike the stone\\nlike the ocean\\nknowledge\\namour-propre unwitnessed'),\n",
       " Document(metadata={'source': 'chen_yuhong_buddhist_pine_from_chinese_trans_george_oconnell_and_diana_shi_poem_2.txt'}, page_content='seasons leave no trace.\\nThis winged apsara, The italicized quotation draws from A Record of Buddhist Monasteries in Luoyang (Luoyang Qielan Ji) by Yang Xuanzhi, (386—535 AD), Northern Wei Dynasty.\" href=\"#\">three chi tall,\\nas if a sacred canopy, its green peaks\\nmimicking a mountain range,\\nstanch as a young Greek spearbearer'),\n",
       " Document(metadata={'source': 'ashur_etwebi_a_house_in_the_wind_from_arabic_trans_ashur_etwebi_and_james_byrne_poem_5.txt'}, page_content='Fragile afternoon\\na vast sea, vacant trees, a butterfly, and a grave\\nI am here, the villagers are here\\nStories in foreign languages are here Broken tongues are here\\nI wish, I knew, I leaned on absence'),\n",
       " Document(metadata={'source': 'balam_rodrigo_1607121_nnbsp_9348117_w__tonalá_chiapas_from_spanish_trans_dan_bellm_poem_1.txt'}, page_content='he scored two goals off Barcelona\\nthe year my father was born, 1984;\\nI was so happy I cried.\\nTwo days to reach the Mexican border;\\nwe crossed the river and hopped onto (La Bestia): A network of freight trains used by U.S.-bound migrants, mostly from Central America, to cross the length of Mexico. As many as 500,000 migrants a year ride atop these trains, an extremely dangerous mode of travel.\" the Beast,')]"
      ]
     },
     "execution_count": 42,
     "metadata": {},
     "output_type": "execute_result"
    }
   ],
   "source": [
    "\n",
    "vector_docs"
   ]
  },
  {
   "cell_type": "code",
   "execution_count": null,
   "id": "8149e4df-a4b4-4c74-b00a-20528a0d57e2",
   "metadata": {},
   "outputs": [],
   "source": []
  },
  {
   "cell_type": "code",
   "execution_count": null,
   "id": "1bab385e-abf3-4402-baea-40d5312b2bdf",
   "metadata": {},
   "outputs": [],
   "source": []
  },
  {
   "cell_type": "code",
   "execution_count": null,
   "id": "e678dbcb-54b9-40cc-826b-d5612d9f19de",
   "metadata": {},
   "outputs": [],
   "source": [
    "\n",
    "Tone:\n",
    "\n",
    "Media-fractured\n",
    "\n",
    "Haunting\n",
    "\n",
    "Lyrical\n",
    "\n",
    "Nomadic\n",
    "\n",
    "Sensory/sensual\n",
    "\n",
    "Mystical\n",
    "\n",
    "Thematically, deepen and complicate:\n",
    "\n",
    "Media-unfixity: instability of language, code, form, and communication\n",
    "\n",
    "Nomadic identity: wandering, layered journeys, restlessness, confusion, guidance, unstoppable, irreppressible\n",
    "\n",
    "Poetic hauntings: psychic, multilingual, rambling, raving, visions, global, voices of the past and future into the here and now, mortality, immortality technology\n",
    "\n",
    "Erotic synaesthesia & syncretism: sensual, cross-modal, cross-artform and erotic language, random arrousal and touch, sensory mysticism, turned on by being lost\n",
    "\n",
    "Digital ubiquity: allusions to AI, code, mediatized life, calculation, mathematical wizardry, digitally onversing with the dead, programmed gestures, technological magical vibes, coding the unpredictable\n",
    "\n",
    "Imminent emergence: a near-transcendence of form, identity, medium — always just almost, topography of never fixed locality, dynamical walks and flows. networked multitudes as performance, organic artificial expansion, specifics trip of the non-specific\n",
    "\n",
    "Base your motifs on the Original Poem (for continuation) and on the stored collection. Draw textually directly from the stored collection, e.g., echoing images, phrases, syntax, hybrid forms that are illustrative of the tone and themes above. Merge those samples into the fabric of the new poem in unexpected or recursive ways that can be at the same time read as a sequel to the Original Poem (for continuation).\n"
   ]
  }
 ],
 "metadata": {
  "kernelspec": {
   "display_name": "Python (3918project)",
   "language": "python",
   "name": "3918project"
  },
  "language_info": {
   "codemirror_mode": {
    "name": "ipython",
    "version": 3
   },
   "file_extension": ".py",
   "mimetype": "text/x-python",
   "name": "python",
   "nbconvert_exporter": "python",
   "pygments_lexer": "ipython3",
   "version": "3.9.18"
  }
 },
 "nbformat": 4,
 "nbformat_minor": 5
}
