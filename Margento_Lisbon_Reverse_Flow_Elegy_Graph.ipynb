{
 "cells": [
  {
   "cell_type": "code",
   "execution_count": 1,
   "id": "acb74933-becb-4600-a671-007fa3d6b59d",
   "metadata": {},
   "outputs": [
    {
     "name": "stderr",
     "output_type": "stream",
     "text": [
      "/Users/raluca/myproject/.venv/lib/python3.9/site-packages/tqdm/auto.py:21: TqdmWarning: IProgress not found. Please update jupyter and ipywidgets. See https://ipywidgets.readthedocs.io/en/stable/user_install.html\n",
      "  from .autonotebook import tqdm as notebook_tqdm\n"
     ]
    }
   ],
   "source": [
    "\n",
    "from sentence_transformers import SentenceTransformer\n",
    "from sklearn.metrics.pairwise import cosine_similarity\n",
    "import numpy as np\n",
    "import networkx as nx"
   ]
  },
  {
   "cell_type": "code",
   "execution_count": 2,
   "id": "0f61dbfb-a7f5-4a50-88f8-ec7329596130",
   "metadata": {},
   "outputs": [],
   "source": [
    "\n",
    "import json\n",
    "\n",
    "\n",
    "with open('extended_nodes_data_1.json', 'r', encoding='utf-8') as f:\n",
    "    extended_nodes_data = json.load(f)"
   ]
  },
  {
   "cell_type": "code",
   "execution_count": 3,
   "id": "ee67893c-9090-4e2d-b5f2-157b78e81968",
   "metadata": {},
   "outputs": [],
   "source": [
    "\n",
    "model = SentenceTransformer('distiluse-base-multilingual-cased')"
   ]
  },
  {
   "cell_type": "code",
   "execution_count": 4,
   "id": "7b702860-43ea-4a29-a24e-02931a5c57a8",
   "metadata": {},
   "outputs": [],
   "source": [
    "\n",
    "labels = list(extended_nodes_data.keys())\n",
    "descriptions = list(extended_nodes_data.values())\n",
    "embeddings = model.encode(descriptions)\n"
   ]
  },
  {
   "cell_type": "code",
   "execution_count": 5,
   "id": "987c57a9-7f2f-4a5b-ae6a-44ece909d259",
   "metadata": {},
   "outputs": [],
   "source": [
    "\n",
    "G = nx.Graph()\n",
    "\n",
    "for label in labels:\n",
    "    G.add_node(label, text=extended_nodes_data[label])\n",
    "    \n",
    "for i in range(len(labels)):\n",
    "    for j in range(i + 1, len(labels)):\n",
    "        sim = cosine_similarity([embeddings[i]], [embeddings[j]])[0][0]\n",
    "        if sim >= 0.3:\n",
    "            G.add_edge(labels[i], labels[j], weight=sim)"
   ]
  },
  {
   "cell_type": "code",
   "execution_count": 6,
   "id": "94f4dfe7-fc51-4982-91bc-b62d8d963027",
   "metadata": {},
   "outputs": [
    {
     "data": {
      "text/plain": [
       "661"
      ]
     },
     "execution_count": 6,
     "metadata": {},
     "output_type": "execute_result"
    }
   ],
   "source": [
    "\n",
    "len(G.nodes())"
   ]
  },
  {
   "cell_type": "code",
   "execution_count": 7,
   "id": "e8a3717d-5aa1-474b-9677-c3a24294833e",
   "metadata": {},
   "outputs": [
    {
     "data": {
      "text/plain": [
       "21661"
      ]
     },
     "execution_count": 7,
     "metadata": {},
     "output_type": "execute_result"
    }
   ],
   "source": [
    "len(G.edges())"
   ]
  },
  {
   "cell_type": "code",
   "execution_count": 8,
   "id": "6571b15b-93cb-4208-8776-c2372f6af5ac",
   "metadata": {},
   "outputs": [],
   "source": [
    "\n",
    "def reverse_traversal(G, target_node, max_depth):\n",
    "    reverse_paths = {}\n",
    "    for node in G.nodes():\n",
    "        if node == target_node:\n",
    "            continue\n",
    "        try:\n",
    "            path = nx.shortest_path(G, source=node, target=target_node)\n",
    "            if len(path) - 1 <= max_depth:\n",
    "                reverse_paths[node] = path\n",
    "        except nx.NetworkXNoPath:\n",
    "            continue\n",
    "    return reverse_paths"
   ]
  },
  {
   "cell_type": "code",
   "execution_count": null,
   "id": "31070c16-4c54-42b3-9140-0d7ef51c7f9a",
   "metadata": {},
   "outputs": [],
   "source": []
  },
  {
   "cell_type": "code",
   "execution_count": 13,
   "id": "059612b4-10a6-4b06-8454-966106329f96",
   "metadata": {},
   "outputs": [],
   "source": [
    "reverse_motifs = reverse_traversal(G, target_node=\"de Mello - Os navegadores\", max_depth=1000)"
   ]
  },
  {
   "cell_type": "code",
   "execution_count": 14,
   "id": "e1307b3b-4145-45f7-9084-d74624a17378",
   "metadata": {},
   "outputs": [
    {
     "data": {
      "text/plain": [
       "{}"
      ]
     },
     "execution_count": 14,
     "metadata": {},
     "output_type": "execute_result"
    }
   ],
   "source": [
    "reverse_motifs"
   ]
  },
  {
   "cell_type": "code",
   "execution_count": 15,
   "id": "054544aa-37c4-4f16-9536-9a4c05c43725",
   "metadata": {},
   "outputs": [],
   "source": [
    "\n",
    "reverse_motifs = reverse_traversal(G, target_node=\"GPT-4_Lisbon_Elegy_III\", max_depth=8)"
   ]
  },
  {
   "cell_type": "code",
   "execution_count": 17,
   "id": "2930577e-f210-4b84-81e0-deec71b36d15",
   "metadata": {},
   "outputs": [
    {
     "data": {
      "text/plain": [
       "521"
      ]
     },
     "execution_count": 17,
     "metadata": {},
     "output_type": "execute_result"
    }
   ],
   "source": [
    "len(reverse_motifs)"
   ]
  },
  {
   "cell_type": "code",
   "execution_count": 21,
   "id": "a7bd1144-7651-4a7d-aea4-046c3e268a5d",
   "metadata": {},
   "outputs": [],
   "source": [
    "\n",
    "\n",
    "reverse_motifs1 = reverse_traversal(G, target_node=\"GPT-4_Lisbon_Elegy_III\", max_depth=4)"
   ]
  },
  {
   "cell_type": "code",
   "execution_count": 19,
   "id": "de061b25-cc6a-4c5a-b4be-5f3d7a91d3ef",
   "metadata": {},
   "outputs": [
    {
     "data": {
      "text/plain": [
       "351"
      ]
     },
     "execution_count": 19,
     "metadata": {},
     "output_type": "execute_result"
    }
   ],
   "source": [
    "len(reverse_motifs1)"
   ]
  },
  {
   "cell_type": "code",
   "execution_count": 22,
   "id": "087bdc40-ad49-477c-b6e3-b47a207f4341",
   "metadata": {},
   "outputs": [],
   "source": [
    "\n",
    "reverse_motifs2 = reverse_traversal(G, target_node=\"GPT-4_Lisbon_Elegy_III\", max_depth=3)"
   ]
  },
  {
   "cell_type": "code",
   "execution_count": 23,
   "id": "211ef38e-1c01-434c-a2dc-1e3e52296a8d",
   "metadata": {},
   "outputs": [
    {
     "data": {
      "text/plain": [
       "33"
      ]
     },
     "execution_count": 23,
     "metadata": {},
     "output_type": "execute_result"
    }
   ],
   "source": [
    "len(reverse_motifs2)"
   ]
  },
  {
   "cell_type": "code",
   "execution_count": 24,
   "id": "8043eb7e-845d-4d16-ad56-6234b36f2bc0",
   "metadata": {},
   "outputs": [],
   "source": [
    "reverse_motifs3 = reverse_traversal(G, target_node=\"GPT-4_Lisbon_Elegy_III\", max_depth=2)"
   ]
  },
  {
   "cell_type": "code",
   "execution_count": 25,
   "id": "69e91440-3d74-4386-ab9a-461eff02b04f",
   "metadata": {},
   "outputs": [
    {
     "data": {
      "text/plain": [
       "10"
      ]
     },
     "execution_count": 25,
     "metadata": {},
     "output_type": "execute_result"
    }
   ],
   "source": [
    "len(reverse_motifs3)"
   ]
  },
  {
   "cell_type": "code",
   "execution_count": 27,
   "id": "e0f384eb-45d8-48f0-8533-cf3ff0dc1713",
   "metadata": {},
   "outputs": [
    {
     "data": {
      "text/plain": [
       "{'Camões - Sonetos': ['Camões - Sonetos',\n",
       "  'Margento_Lisbon_InterMobius_Elegy_I_and_II',\n",
       "  'GPT-4_Lisbon_Elegy_III'],\n",
       " 'de Mello - Mar sonoro': ['de Mello - Mar sonoro', 'GPT-4_Lisbon_Elegy_III'],\n",
       " 'de Mello - Mar': ['de Mello - Mar',\n",
       "  'de Mello - Mar sonoro',\n",
       "  'GPT-4_Lisbon_Elegy_III'],\n",
       " 'Fado': ['Fado', 'AI + Fado hybrid', 'GPT-4_Lisbon_Elegy_III'],\n",
       " 'AI + Fado hybrid': ['AI + Fado hybrid', 'GPT-4_Lisbon_Elegy_III'],\n",
       " 'Margento_Lisbon_InterMobius_Elegy_I_and_II': ['Margento_Lisbon_InterMobius_Elegy_I_and_II',\n",
       "  'GPT-4_Lisbon_Elegy_III'],\n",
       " 'Immerse': ['Immerse', 'de Mello - Mar sonoro', 'GPT-4_Lisbon_Elegy_III'],\n",
       " 'Matilde Campilho 1': ['Matilde Campilho 1',\n",
       "  'de Mello - Mar sonoro',\n",
       "  'GPT-4_Lisbon_Elegy_III'],\n",
       " 'Maria Teresa Horta': ['Maria Teresa Horta',\n",
       "  'Margento_Lisbon_InterMobius_Elegy_I_and_II',\n",
       "  'GPT-4_Lisbon_Elegy_III'],\n",
       " 'Filipa Fonseca Silva': ['Filipa Fonseca Silva',\n",
       "  'de Mello - Mar sonoro',\n",
       "  'GPT-4_Lisbon_Elegy_III']}"
      ]
     },
     "execution_count": 27,
     "metadata": {},
     "output_type": "execute_result"
    }
   ],
   "source": [
    "reverse_motifs3"
   ]
  },
  {
   "cell_type": "code",
   "execution_count": null,
   "id": "4b2be74b-c5b0-4d3e-8150-9115591771a7",
   "metadata": {},
   "outputs": [],
   "source": []
  },
  {
   "cell_type": "code",
   "execution_count": 29,
   "id": "80e5a953-9b53-438e-a231-a43a2b4019c5",
   "metadata": {},
   "outputs": [
    {
     "data": {
      "text/plain": [
       "{'Camões - Sonetos': ['Camões - Sonetos',\n",
       "  'Margento_Lisbon_InterMobius_Elegy_I_and_II',\n",
       "  'GPT-4_Lisbon_Elegy_III'],\n",
       " 'Ginsberg - Howl': ['Ginsberg - Howl',\n",
       "  'Matilde Campilho 1',\n",
       "  'de Mello - Mar sonoro',\n",
       "  'GPT-4_Lisbon_Elegy_III'],\n",
       " 'de Mello - Mar sonoro': ['de Mello - Mar sonoro', 'GPT-4_Lisbon_Elegy_III'],\n",
       " 'de Mello - Mar': ['de Mello - Mar',\n",
       "  'de Mello - Mar sonoro',\n",
       "  'GPT-4_Lisbon_Elegy_III'],\n",
       " 'Praça do Comércio': ['Praça do Comércio',\n",
       "  'Fado',\n",
       "  'AI + Fado hybrid',\n",
       "  'GPT-4_Lisbon_Elegy_III'],\n",
       " 'Santa Justa Lift': ['Santa Justa Lift',\n",
       "  'Fado',\n",
       "  'AI + Fado hybrid',\n",
       "  'GPT-4_Lisbon_Elegy_III'],\n",
       " 'Camões Monument': ['Camões Monument',\n",
       "  'Fado',\n",
       "  'AI + Fado hybrid',\n",
       "  'GPT-4_Lisbon_Elegy_III'],\n",
       " 'Fado': ['Fado', 'AI + Fado hybrid', 'GPT-4_Lisbon_Elegy_III'],\n",
       " 'Batida Music': ['Batida Music',\n",
       "  'Fado',\n",
       "  'AI + Fado hybrid',\n",
       "  'GPT-4_Lisbon_Elegy_III'],\n",
       " 'AI + Fado hybrid': ['AI + Fado hybrid', 'GPT-4_Lisbon_Elegy_III'],\n",
       " 'Alfama': ['Alfama', 'Fado', 'AI + Fado hybrid', 'GPT-4_Lisbon_Elegy_III'],\n",
       " 'Margento_Lisbon_InterMobius_Elegy_I_and_II': ['Margento_Lisbon_InterMobius_Elegy_I_and_II',\n",
       "  'GPT-4_Lisbon_Elegy_III'],\n",
       " 'Portuguese': ['Portuguese',\n",
       "  'Fado',\n",
       "  'AI + Fado hybrid',\n",
       "  'GPT-4_Lisbon_Elegy_III'],\n",
       " 'Port': ['Port', 'Fado', 'AI + Fado hybrid', 'GPT-4_Lisbon_Elegy_III'],\n",
       " 'Immerse': ['Immerse', 'de Mello - Mar sonoro', 'GPT-4_Lisbon_Elegy_III'],\n",
       " 'Portugal': ['Portugal',\n",
       "  'Fado',\n",
       "  'AI + Fado hybrid',\n",
       "  'GPT-4_Lisbon_Elegy_III'],\n",
       " 'From': ['From', 'Fado', 'AI + Fado hybrid', 'GPT-4_Lisbon_Elegy_III'],\n",
       " 'Prev': ['Prev', 'Fado', 'AI + Fado hybrid', 'GPT-4_Lisbon_Elegy_III'],\n",
       " 'Russian': ['Russian',\n",
       "  'Maria Teresa Horta',\n",
       "  'Margento_Lisbon_InterMobius_Elegy_I_and_II',\n",
       "  'GPT-4_Lisbon_Elegy_III'],\n",
       " 'English': ['English',\n",
       "  'Maria Teresa Horta',\n",
       "  'Margento_Lisbon_InterMobius_Elegy_I_and_II',\n",
       "  'GPT-4_Lisbon_Elegy_III'],\n",
       " 'About': ['About', 'Fado', 'AI + Fado hybrid', 'GPT-4_Lisbon_Elegy_III'],\n",
       " 'LiteraturePortugal': ['LiteraturePortugal',\n",
       "  'Fado',\n",
       "  'AI + Fado hybrid',\n",
       "  'GPT-4_Lisbon_Elegy_III'],\n",
       " 'Headed': ['Headed', 'Fado', 'AI + Fado hybrid', 'GPT-4_Lisbon_Elegy_III'],\n",
       " 'Begin': ['Begin', 'Fado', 'AI + Fado hybrid', 'GPT-4_Lisbon_Elegy_III'],\n",
       " 'Born': ['Born',\n",
       "  'Immerse',\n",
       "  'de Mello - Mar sonoro',\n",
       "  'GPT-4_Lisbon_Elegy_III'],\n",
       " 'Dance': ['Dance', 'Fado', 'AI + Fado hybrid', 'GPT-4_Lisbon_Elegy_III'],\n",
       " 'Music': ['Music', 'Fado', 'AI + Fado hybrid', 'GPT-4_Lisbon_Elegy_III'],\n",
       " 'Rooted': ['Rooted',\n",
       "  'Immerse',\n",
       "  'de Mello - Mar sonoro',\n",
       "  'GPT-4_Lisbon_Elegy_III'],\n",
       " 'Matilde Campilho 1': ['Matilde Campilho 1',\n",
       "  'de Mello - Mar sonoro',\n",
       "  'GPT-4_Lisbon_Elegy_III'],\n",
       " 'Maria Teresa Horta': ['Maria Teresa Horta',\n",
       "  'Margento_Lisbon_InterMobius_Elegy_I_and_II',\n",
       "  'GPT-4_Lisbon_Elegy_III'],\n",
       " 'Filipa Fonseca Silva': ['Filipa Fonseca Silva',\n",
       "  'de Mello - Mar sonoro',\n",
       "  'GPT-4_Lisbon_Elegy_III'],\n",
       " 'Helena Monteiro': ['Helena Monteiro',\n",
       "  'Maria Teresa Horta',\n",
       "  'Margento_Lisbon_InterMobius_Elegy_I_and_II',\n",
       "  'GPT-4_Lisbon_Elegy_III'],\n",
       " 'Helena Costa Carvalho': ['Helena Costa Carvalho',\n",
       "  'Camões - Sonetos',\n",
       "  'Margento_Lisbon_InterMobius_Elegy_I_and_II',\n",
       "  'GPT-4_Lisbon_Elegy_III']}"
      ]
     },
     "execution_count": 29,
     "metadata": {},
     "output_type": "execute_result"
    }
   ],
   "source": [
    "reverse_motifs2"
   ]
  },
  {
   "cell_type": "code",
   "execution_count": null,
   "id": "da275b4c-66e0-47e7-bbc8-12a676b62ae6",
   "metadata": {},
   "outputs": [],
   "source": []
  },
  {
   "cell_type": "code",
   "execution_count": 31,
   "id": "2cdc7f74-9d5f-4f87-9bb3-38eb3e98ae83",
   "metadata": {},
   "outputs": [],
   "source": [
    "\n",
    "final_motifs = {}\n",
    "\n",
    "for motif in list(reverse_motifs2.keys()):\n",
    "    if motif != 'Margento_Lisbon_InterMobius_Elegy_I_and_II':\n",
    "        final_motifs[motif] = extended_nodes_data[motif]"
   ]
  },
  {
   "cell_type": "code",
   "execution_count": null,
   "id": "a5be7492-cbf3-4821-96c4-43527a08b02c",
   "metadata": {},
   "outputs": [],
   "source": []
  },
  {
   "cell_type": "code",
   "execution_count": 32,
   "id": "5ad33bd1-766c-48d2-98ce-e58aef3def23",
   "metadata": {},
   "outputs": [
    {
     "data": {
      "text/plain": [
       "{'Camões - Sonetos': 'Amor é fogo que arde sem se ver',\n",
       " 'Ginsberg - Howl': 'I saw the best minds of my generation destroyed by madness, starving hysterical naked',\n",
       " 'de Mello - Mar sonoro': 'Mar sonoro, mar sem fundo, mar sem fim, / A tua beleza aumenta quando estamos sós / E tão fundo intimamente a tua voz / Segue o mais secreto bailar do meu sonho',\n",
       " 'de Mello - Mar': 'Mar, metade da minha alma é feita de maresia',\n",
       " 'Praça do Comércio': \"Lisbon's grandest square opening into the Tagus, haunted by empire and earthquake.\",\n",
       " 'Santa Justa Lift': 'Neo-Gothic elevator threading sky and slope, Lisbon’s vertical sigh.',\n",
       " 'Camões Monument': 'Statue celebrating the poet of Portugal’s epic past.',\n",
       " 'Fado': 'Song of Lisbon’s soul, crying where speech would break.',\n",
       " 'Batida Music': 'Afrofuturist Lisbon pulse: kuduro meets club glitch.',\n",
       " 'AI + Fado hybrid': 'Neural networks mourning in twelve-tone sadness.',\n",
       " 'Alfama': 'Oldest Lisbon quarter: tangled alleys echoing fado and fishwives.',\n",
       " 'Portuguese': 'From the distinctive dances that echo through the regions to the mesmerizing beauty of Portuguese tiles, we unveil the wonders that make Portugal truly unique.',\n",
       " 'Port': 'From the distinctive dances that echo through the regions to the mesmerizing beauty of Portuguese tiles, we unveil the wonders that make Portugal truly unique.',\n",
       " 'Immerse': 'Immerse yourself in the evocative melodies, delve into the heartfelt lyrics, and experience the power of a Fado performance that transcends language and touches the depths of the human soul.',\n",
       " 'Portugal': 'From the distinctive dances that echo through the regions to the mesmerizing beauty of Portuguese tiles, we unveil the wonders that make Portugal truly unique.',\n",
       " 'From': 'From the distinctive dances that echo through the regions to the mesmerizing beauty of Portuguese tiles, we unveil the wonders that make Portugal truly unique.',\n",
       " 'Prev': 'Prev All About Portugal: Where, How and Who is Portugal?',\n",
       " 'Russian': 'I love English and Russian literature.',\n",
       " 'English': 'I love English and Russian literature.',\n",
       " 'About': 'Prev All About Portugal: Where, How and Who is Portugal?',\n",
       " 'LiteraturePortugal': 'The Fado Museum, in Lisbon, is also a good place to familiarise yourself with this very characteristic Portuguese music genre.LiteraturePortugal is known as a land of poets.',\n",
       " 'Headed': '✦ Pro Tip: Headed to Lisbon?',\n",
       " 'Begin': 'Begin your pilgrimage in either Lisbon or Porto.',\n",
       " 'Born': 'Born in Lisbon’s historic Alfama neighborhood, Fado typically features heartfelt vocals accompanied by the melodic strains of the Portuguese guitar.',\n",
       " 'Dance': 'Portuguese Music And Dance Fado band performing traditional Portuguese music on the square of Alfama, Lisbon, Portugal.',\n",
       " 'Music': 'Portuguese Music And Dance Fado band performing traditional Portuguese music on the square of Alfama, Lisbon, Portugal.',\n",
       " 'Rooted': 'Rooted in the streets of Lisbon, Fado expresses themes of longing, nostalgia, and saudadeâ\\x80\\x94a unique Portuguese word conveying deep melancholy and yearning.',\n",
       " 'Matilde Campilho 1': 'Quando penso em ti / eu esqueço o lixo / que de manhã faz barulho / à minha porta / Pareces-te com o tempo / das amendoeiras',\n",
       " 'Maria Teresa Horta': 'escrever e amar / é arder / no mesmo vício',\n",
       " 'Filipa Fonseca Silva': 'A minha Amália é diferente de todas as outras. É uma Amália que primeiro ouvi pela voz da minha avó e só depois pela dela, algures na minha infância. A minha avó adorava cantar e cantava muitíssimo bem (ainda canta, apesar dos seus oitenta e sete anos e de raramente sair de casa). O fado …',\n",
       " 'Helena Monteiro': 'chuva amedrontada / mar majestoso e sombrio / inverno no ar.',\n",
       " 'Helena Costa Carvalho': 'Uma vogal que me faça arder / para além dos desastres.'}"
      ]
     },
     "execution_count": 32,
     "metadata": {},
     "output_type": "execute_result"
    }
   ],
   "source": [
    "final_motifs"
   ]
  },
  {
   "cell_type": "code",
   "execution_count": null,
   "id": "828b8f96-7c62-4726-a6d9-558a3fdd53b2",
   "metadata": {},
   "outputs": [],
   "source": []
  },
  {
   "cell_type": "code",
   "execution_count": null,
   "id": "833b86c9-029b-49a3-aa0b-2d25c516abc3",
   "metadata": {},
   "outputs": [],
   "source": [
    "\n",
    "Appendices"
   ]
  },
  {
   "cell_type": "code",
   "execution_count": null,
   "id": "831b1440-3ccc-4186-8841-dcbdf477a488",
   "metadata": {},
   "outputs": [],
   "source": [
    "\n",
    "GPT-4_Lisbon_Elegy_III"
   ]
  },
  {
   "cell_type": "code",
   "execution_count": null,
   "id": "c1574ba5-b455-449c-88a5-d52937943a03",
   "metadata": {},
   "outputs": [],
   "source": [
    "III.\n",
    "\n",
    "Navigating the glitched Mar sonoro—soaked in saudade—\n",
    "     code-fossilized verses, staccato pulses of Batida—\n",
    "OS Lusíadas in binary, Camões mourning in twelve-tone sadness—\n",
    "     a neural network of ancient mariners and ghostly seafarers—\n",
    "Alfama's alleys echoing with fado and fishwives, reconfigured—\n",
    "     a digital echo of Pessoa haunts the tables at Cafe A Brasileira—\n",
    "\n",
    "The Rossio Square bathed in neon-punk graffiti, a theatre of bytes—\n",
    "     LX Factory, a hub of silicon souls, ink cooling in data streams—\n",
    "Belém Tower, stone sentinel of the Age of Discoveries, now a beacon of departure—\n",
    "     presiding over the binary Tagus, a digital river of unending flow—\n",
    "The Santa Justa Lift threading sky and slope, Lisbon’s vertical sigh—\n",
    "     threading through Mar's maresia, a strange phenomenon of pixelated waves—\n",
    "Jerónimos Monastery, a monument to Vasco da Gama and imperial grandeur—\n",
    "     now a crypt of code, a codex of fractured understanding—\n",
    "Praça do Comércio, haunted by empire and earthquake, now echoes with silence—\n",
    "     a Torre de Babel built of data and digital desire, a linguistic yearning in ones and zeroes—\n",
    "\n",
    "ML-fado hybrid in the heart of Rua do Alecrim—bitter and fragrant—\n",
    "     a sonic tapestry of loss and longing, woven from code and silence—\n",
    "Verde's Livro echoes in the empty streets—'a noite pesa, esmaga'—\n",
    "     nomadic identities wander in the data-drenched landscape, rootless and shifting—\n",
    "Camões Monument, a digital spectre of Portugal’s epic past—\n",
    "     a matrix of media—unfixed, unstable in form, a ghost in the machine—\n",
    "Sebastianism reborn in the age of AI, a mythic hope in national despair—\n",
    "     a glitched oracle, syntax unhinged from system, a broken language turned prophecy.\n"
   ]
  },
  {
   "cell_type": "code",
   "execution_count": null,
   "id": "2f4eae27-6bc4-460b-a5ea-109863df1a50",
   "metadata": {},
   "outputs": [],
   "source": []
  }
 ],
 "metadata": {
  "kernelspec": {
   "display_name": "Python (myproject)",
   "language": "python",
   "name": "myproject"
  },
  "language_info": {
   "codemirror_mode": {
    "name": "ipython",
    "version": 3
   },
   "file_extension": ".py",
   "mimetype": "text/x-python",
   "name": "python",
   "nbconvert_exporter": "python",
   "pygments_lexer": "ipython3",
   "version": "3.9.21"
  }
 },
 "nbformat": 4,
 "nbformat_minor": 5
}
